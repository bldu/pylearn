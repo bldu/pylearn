{
 "metadata": {
  "language_info": {
   "codemirror_mode": {
    "name": "ipython",
    "version": 3
   },
   "file_extension": ".py",
   "mimetype": "text/x-python",
   "name": "python",
   "nbconvert_exporter": "python",
   "pygments_lexer": "ipython3",
   "version": "3.6.13"
  },
  "orig_nbformat": 2,
  "kernelspec": {
   "name": "python3613jvsc74a57bd00c88bcb4a63b7e0cd4902dc564384a2548b29fbf444263675a50312db0f92f18",
   "display_name": "Python 3.6.13 64-bit ('python36': conda)"
  }
 },
 "nbformat": 4,
 "nbformat_minor": 2,
 "cells": [
  {
   "cell_type": "code",
   "execution_count": 1,
   "metadata": {},
   "outputs": [
    {
     "output_type": "execute_result",
     "data": {
      "text/plain": [
       "-1"
      ]
     },
     "metadata": {},
     "execution_count": 1
    }
   ],
   "source": [
    "import numpy as np \n",
    "import cv2\n",
    "\n",
    "rectangle = np.zeros((300,300),dtype=\"uint8\")\n",
    "cv2.rectangle(rectangle,(25,25),(275,275),255,-1)\n",
    "cv2.imshow(\"Rectangle\",rectangle)\n",
    "\n",
    "circle = np.zeros((300,300),dtype=\"uint8\")\n",
    "cv2.circle(circle,(150,150),150,255,-1)\n",
    "cv2.imshow(\"Circle\",circle)\n",
    "cv2.waitKey(0)\n",
    "\n",
    "bitwiseAnd = cv2.bitwise_and(rectangle,circle)\n",
    "cv2.imshow(\"And\",bitwiseAnd)\n",
    "cv2.waitKey(0)\n",
    "\n",
    "bitwiseOr = cv2.bitwise_or(rectangle,circle)\n",
    "cv2.imshow(\"OR\",bitwiseOr)\n",
    "cv2.waitKey(0)\n",
    "\n",
    "bitwiseXor = cv2.bitwise_xor(rectangle,circle)\n",
    "cv2.imshow(\"XOR\",bitwiseXor)\n",
    "cv2.waitKey(0)\n",
    "\n",
    "bitwiseNot = cv2.bitwise_not(rectangle)\n",
    "cv2.imshow(\"Not\",bitwiseNot)\n",
    "cv2.waitKey(0)"
   ]
  },
  {
   "cell_type": "code",
   "execution_count": null,
   "metadata": {},
   "outputs": [],
   "source": []
  }
 ]
}