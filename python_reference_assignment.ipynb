{
 "cells": [
  {
   "cell_type": "markdown",
   "metadata": {},
   "source": [
    "## 几个关于python的基本事实(注意与c/c++的区别)\n",
    "- python中一切的赋值本质上都是引用\n",
    "- python一切皆对象\n",
    "- 函数的参数的传递只有引用传递，没有值传递"
   ]
  },
  {
   "cell_type": "markdown",
   "metadata": {},
   "source": [
    "### 小整数和短字符串会被Python缓存复用"
   ]
  },
  {
   "cell_type": "code",
   "execution_count": null,
   "metadata": {},
   "outputs": [
    {
     "name": "stdout",
     "output_type": "stream",
     "text": [
      "4294967295\n",
      "4294967295\n",
      "4294967295\n",
      "140727704037816\n",
      "140727704037816\n",
      "140727704037816\n",
      "True\n",
      "True\n"
     ]
    },
    {
     "name": "stderr",
     "output_type": "stream",
     "text": [
      "<>:15: SyntaxWarning: \"is\" with 'int' literal. Did you mean \"==\"?\n",
      "<>:15: SyntaxWarning: \"is\" with 'int' literal. Did you mean \"==\"?\n",
      "C:\\Users\\dubol\\AppData\\Local\\Temp\\ipykernel_11136\\3840131183.py:15: SyntaxWarning: \"is\" with 'int' literal. Did you mean \"==\"?\n",
      "  print(a is 1)\n"
     ]
    }
   ],
   "source": [
    "# 对于小整数和短字符串会被Python缓存复用，而不是在每次赋值的时候临时创建的。因此对于简单的数如1，可能已经有大量的引用。\n",
    "# 可通过下面的方式查看1的引用计数\n",
    "import sys\n",
    "print(sys.getrefcount(1)) # 查看1的引用计数\n",
    "a = 1 # a 是对象1的一个引用\n",
    "b = 1 # b 也是对象1的一个引用\n",
    "print(sys.getrefcount(1)) #尚不清楚为什么引用计数没有增加2个\n",
    "# 因为1是被缓存复用的，而a、b都是1的引用，所以1、a、b的地址都是相同的\n",
    "print(id(1))\n",
    "print(id(a))\n",
    "print(id(b))\n",
    "print(a is b)\n",
    "print(a is 1)"
   ]
  },
  {
   "cell_type": "code",
   "execution_count": null,
   "metadata": {},
   "outputs": [
    {
     "name": "stdout",
     "output_type": "stream",
     "text": [
      "3\n",
      "4\n",
      "1730008950928\n",
      "1730010583344\n",
      "1730008954224\n",
      "1730008951280\n",
      "1730008954224\n",
      "False\n",
      "True\n"
     ]
    }
   ],
   "source": [
    "# 1e10 则不然, 此1e10非彼1e10，每次出现都是一次number类型的对象的创建\n",
    "import sys\n",
    "a = 1e10\n",
    "print(sys.getrefcount(a))\n",
    "c = a #增加一次引用, a和c的地址相同。再次强调，python中的赋值其实就是引用\n",
    "print(sys.getrefcount(a))\n",
    "\n",
    "b = 1e10\n",
    "print(id(1e10))\n",
    "print(id(1e10))\n",
    "print(id(a))\n",
    "print(id(b))\n",
    "print(id(c))\n",
    "print(a is b)\n",
    "print(a is c)"
   ]
  },
  {
   "cell_type": "code",
   "execution_count": null,
   "metadata": {},
   "outputs": [
    {
     "name": "stdout",
     "output_type": "stream",
     "text": [
      "2\n",
      "3\n",
      "1730010943168\n",
      "1730010879232\n",
      "1730011129088\n",
      "1730011129088\n"
     ]
    }
   ],
   "source": [
    "import sys\n",
    "a = []\n",
    "print(sys.getrefcount(a))\n",
    "b = a # 赋值其实是引用\n",
    "print(sys.getrefcount(a))\n",
    "print(id([]))\n",
    "print(id([]))\n",
    "print(id(a))\n",
    "print(id(b))"
   ]
  },
  {
   "cell_type": "markdown",
   "metadata": {},
   "source": [
    "### 参数传递只有引用传递"
   ]
  },
  {
   "cell_type": "code",
   "execution_count": null,
   "metadata": {},
   "outputs": [
    {
     "name": "stdout",
     "output_type": "stream",
     "text": [
      "#################### number\n",
      "1730010582192\n",
      "1730010582192\n",
      "#################### list\n",
      "1730010940288\n",
      "1730010940288\n"
     ]
    }
   ],
   "source": [
    "# 下面函数定义中的x是形参。当调用函数传入实参时，x会是实参的一个引用。因此函数内部打印形参的地址时，会与实参地址相同\n",
    "def func(x):\n",
    "    print(id(x))\n",
    "\n",
    "print(\"#\"*20, \"number\")\n",
    "a = 0.1\n",
    "print(id(a))\n",
    "func(a)\n",
    "\n",
    "print(\"#\"*20, \"list\")\n",
    "a = [1,2,3]\n",
    "print(id(a))\n",
    "func(a)\n"
   ]
  },
  {
   "cell_type": "markdown",
   "metadata": {},
   "source": [
    "### 可变类型与不可变类型\n",
    "我们说number，tuple，str是不可变类型，list，set， dict是可变类型。实际上是讲这些类型的对象能否被改变。number不是容器，很直观的就是其对象不能改变。比如说1这个number对象，改成2就是另一个对象了。因此下面具体讨论其他几种容器类型的对象可变性。"
   ]
  },
  {
   "cell_type": "code",
   "execution_count": 31,
   "metadata": {},
   "outputs": [
    {
     "ename": "TypeError",
     "evalue": "'tuple' object does not support item assignment",
     "output_type": "error",
     "traceback": [
      "\u001b[1;31m---------------------------------------------------------------------------\u001b[0m",
      "\u001b[1;31mTypeError\u001b[0m                                 Traceback (most recent call last)",
      "Cell \u001b[1;32mIn[31], line 3\u001b[0m\n\u001b[0;32m      1\u001b[0m \u001b[38;5;66;03m# tuple 对象(1,2)， a是对象的引用\u001b[39;00m\n\u001b[0;32m      2\u001b[0m a \u001b[38;5;241m=\u001b[39m (\u001b[38;5;241m1\u001b[39m,\u001b[38;5;241m2\u001b[39m)\n\u001b[1;32m----> 3\u001b[0m \u001b[43ma\u001b[49m\u001b[43m[\u001b[49m\u001b[38;5;241;43m0\u001b[39;49m\u001b[43m]\u001b[49m \u001b[38;5;241m=\u001b[39m \u001b[38;5;241m0\u001b[39m\n\u001b[0;32m      4\u001b[0m a\n",
      "\u001b[1;31mTypeError\u001b[0m: 'tuple' object does not support item assignment"
     ]
    }
   ],
   "source": [
    "# tuple 对象(1,2)， a是对象的引用\n",
    "a = (1,2)\n",
    "a[0] = 0\n",
    "a"
   ]
  },
  {
   "cell_type": "code",
   "execution_count": null,
   "metadata": {},
   "outputs": [
    {
     "ename": "TypeError",
     "evalue": "'str' object does not support item assignment",
     "output_type": "error",
     "traceback": [
      "\u001b[1;31m---------------------------------------------------------------------------\u001b[0m",
      "\u001b[1;31mTypeError\u001b[0m                                 Traceback (most recent call last)",
      "Cell \u001b[1;32mIn[24], line 2\u001b[0m\n\u001b[0;32m      1\u001b[0m a \u001b[38;5;241m=\u001b[39m \u001b[38;5;124m\"\u001b[39m\u001b[38;5;124mhello\u001b[39m\u001b[38;5;124m\"\u001b[39m\n\u001b[1;32m----> 2\u001b[0m \u001b[43ma\u001b[49m\u001b[43m[\u001b[49m\u001b[38;5;241;43m0\u001b[39;49m\u001b[43m]\u001b[49m \u001b[38;5;241m=\u001b[39m \u001b[38;5;124m\"\u001b[39m\u001b[38;5;124mH\u001b[39m\u001b[38;5;124m\"\u001b[39m\n\u001b[0;32m      3\u001b[0m a\n",
      "\u001b[1;31mTypeError\u001b[0m: 'str' object does not support item assignment"
     ]
    }
   ],
   "source": [
    "# str\n",
    "a = \"hello\"\n",
    "a[0] = \"H\"\n",
    "a\n"
   ]
  },
  {
   "cell_type": "code",
   "execution_count": null,
   "metadata": {},
   "outputs": [
    {
     "name": "stdout",
     "output_type": "stream",
     "text": [
      "1730017354688\n",
      "[0, 2, 3]\n",
      "1730017354688\n"
     ]
    }
   ],
   "source": [
    "# list类型的一个对象[1,2,3]的元素改变了，其内存地址依然不变，也就是说这个list对象没有更换成别的对象。对象是跟其内存地址绑定的。一个内存地址对应一个对象。所以我们才能说这个对象的内容可变。\n",
    "a = [1,2,3]\n",
    "print(id(a))\n",
    "a[0] = 0\n",
    "print(a)\n",
    "print(id(a))"
   ]
  },
  {
   "cell_type": "code",
   "execution_count": 29,
   "metadata": {},
   "outputs": [
    {
     "name": "stdout",
     "output_type": "stream",
     "text": [
      "1730017369408\n",
      "{'key': 0}\n",
      "1730017369408\n"
     ]
    }
   ],
   "source": [
    "# dict\n",
    "a = {\"key\":1}\n",
    "print(id(a))\n",
    "a[\"key\"] = 0\n",
    "print(a)\n",
    "print(id(a))"
   ]
  },
  {
   "cell_type": "code",
   "execution_count": null,
   "metadata": {},
   "outputs": [
    {
     "name": "stdout",
     "output_type": "stream",
     "text": [
      "1730011620608\n"
     ]
    },
    {
     "ename": "TypeError",
     "evalue": "'set' object does not support item assignment",
     "output_type": "error",
     "traceback": [
      "\u001b[1;31m---------------------------------------------------------------------------\u001b[0m",
      "\u001b[1;31mTypeError\u001b[0m                                 Traceback (most recent call last)",
      "Cell \u001b[1;32mIn[34], line 4\u001b[0m\n\u001b[0;32m      2\u001b[0m a \u001b[38;5;241m=\u001b[39m {\u001b[38;5;241m1\u001b[39m,\u001b[38;5;241m2\u001b[39m,\u001b[38;5;241m3\u001b[39m}\n\u001b[0;32m      3\u001b[0m \u001b[38;5;28mprint\u001b[39m(\u001b[38;5;28mid\u001b[39m(a))\n\u001b[1;32m----> 4\u001b[0m \u001b[43ma\u001b[49m\u001b[43m[\u001b[49m\u001b[38;5;241;43m0\u001b[39;49m\u001b[43m]\u001b[49m \u001b[38;5;241m=\u001b[39m \u001b[38;5;241m0\u001b[39m \u001b[38;5;66;03m# 此处会报错，但并不是说set对象不可变，而是set是无序的，自然无法使用索引。\u001b[39;00m\n\u001b[0;32m      5\u001b[0m \u001b[38;5;28mprint\u001b[39m(a)\n\u001b[0;32m      6\u001b[0m \u001b[38;5;28mprint\u001b[39m(\u001b[38;5;28mid\u001b[39m(a))\n",
      "\u001b[1;31mTypeError\u001b[0m: 'set' object does not support item assignment"
     ]
    }
   ],
   "source": [
    "# set\n",
    "a = {1,2,3}\n",
    "print(id(a))\n",
    "a[0] = 0 # 此处会报错，但并不是说set对象不可变，而是set是无序的，自然无法使用索引。\n",
    "print(a)\n",
    "print(id(a))"
   ]
  },
  {
   "cell_type": "code",
   "execution_count": null,
   "metadata": {},
   "outputs": [
    {
     "name": "stdout",
     "output_type": "stream",
     "text": [
      "1730017886496\n",
      "{1, 2, 3, 5}\n",
      "1730017886496\n"
     ]
    }
   ],
   "source": [
    "# set\n",
    "a = {1,2,3}\n",
    "print(id(a))\n",
    "a.add(5)\n",
    "print(a)\n",
    "print(id(a))"
   ]
  },
  {
   "cell_type": "markdown",
   "metadata": {},
   "source": [
    "### 非基本类型的复杂类的对象的可变性\n",
    "面向对象编程时，定义的类的对象也是可变的，比如说改变对象的属性。"
   ]
  },
  {
   "cell_type": "code",
   "execution_count": 2,
   "metadata": {},
   "outputs": [
    {
     "name": "stdout",
     "output_type": "stream",
     "text": [
      "1729836401872\n",
      "1729836401872\n",
      "Color.BLUE\n",
      "1729836401872\n"
     ]
    }
   ],
   "source": [
    "from enum import Enum\n",
    "\n",
    "class Color(Enum):\n",
    "    RED = \"r\"\n",
    "    GREEN = \"g\"\n",
    "    BLUE = \"b\"\n",
    "\n",
    "class Dog:\n",
    "    def __init__(self, color: Color):\n",
    "        self.color = color\n",
    "\n",
    "dog1 = Dog(Color.RED)\n",
    "dog2 = dog1 # 引用\n",
    "print(id(dog1))\n",
    "print(id(dog2))\n",
    "dog2.color = Color.BLUE\n",
    "print(dog1.color)\n",
    "print(id(dog1))"
   ]
  },
  {
   "cell_type": "code",
   "execution_count": null,
   "metadata": {},
   "outputs": [],
   "source": []
  }
 ],
 "metadata": {
  "kernelspec": {
   "display_name": "base",
   "language": "python",
   "name": "python3"
  },
  "language_info": {
   "codemirror_mode": {
    "name": "ipython",
    "version": 3
   },
   "file_extension": ".py",
   "mimetype": "text/x-python",
   "name": "python",
   "nbconvert_exporter": "python",
   "pygments_lexer": "ipython3",
   "version": "3.12.7"
  }
 },
 "nbformat": 4,
 "nbformat_minor": 2
}
