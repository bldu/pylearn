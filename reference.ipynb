{
 "metadata": {
  "language_info": {
   "codemirror_mode": {
    "name": "ipython",
    "version": 3
   },
   "file_extension": ".py",
   "mimetype": "text/x-python",
   "name": "python",
   "nbconvert_exporter": "python",
   "pygments_lexer": "ipython3",
   "version": "3.7.10-final"
  },
  "orig_nbformat": 2,
  "kernelspec": {
   "name": "python3710jvsc74a57bd0d11407e844fb775f9bc3d4bbb98700ca39555da142fcdcc4c1c550e2d0385c37",
   "display_name": "Python 3.7.10 64-bit ('base_py37')"
  }
 },
 "nbformat": 4,
 "nbformat_minor": 2,
 "cells": [
  {
   "source": [
    "python内置的一些类型中\n",
    "\n",
    "* 可变对象：list dict set\n",
    "\n",
    "* 不可变对象：tuple string int float bool\n"
   ],
   "cell_type": "markdown",
   "metadata": {}
  },
  {
   "cell_type": "code",
   "execution_count": 5,
   "metadata": {},
   "outputs": [
    {
     "output_type": "stream",
     "name": "stdout",
     "text": [
      "4447342416\n4447342416\n[2]\n4447342416\n4447342416\n"
     ]
    }
   ],
   "source": [
    "# list\n",
    "a = [1] # 创建一个列表对象，对象值为[1]。该对象的引用为a。\n",
    "b = a\n",
    "print(id(a))\n",
    "print(id(b))\n",
    "b[0] = 2\n",
    "print(a)\n",
    "print(id(a))\n",
    "print(id(b))"
   ]
  },
  {
   "cell_type": "code",
   "execution_count": 9,
   "metadata": {},
   "outputs": [
    {
     "output_type": "stream",
     "name": "stdout",
     "text": [
      "4453610432\n4453610432\n4448302176\n"
     ]
    }
   ],
   "source": [
    "# tuple\n",
    "tp = (1,2)\n",
    "tp2 = tp\n",
    "print(id(tp))\n",
    "print(id(tp2))\n",
    "# tp[0]=2  不可变对象，会报错\n",
    "tp2 = (1,1)\n",
    "print(id(tp2))\n",
    "\n"
   ]
  },
  {
   "source": [
    "对于类的对象，见下面例子"
   ],
   "cell_type": "markdown",
   "metadata": {}
  },
  {
   "cell_type": "code",
   "execution_count": 5,
   "metadata": {},
   "outputs": [
    {
     "output_type": "stream",
     "name": "stdout",
     "text": [
      "4551485008\n4551485008\n1\n4551485008\n4551485008\n"
     ]
    }
   ],
   "source": [
    "class Cl(object):\n",
    "    attr = 0\n",
    "cl = Cl()\n",
    "cl2 = cl\n",
    "print(id(cl))\n",
    "print(id(cl2))\n",
    "cl2.attr = 1\n",
    "print(cl.attr)\n",
    "print(id(cl))\n",
    "print(id(cl2))"
   ]
  },
  {
   "cell_type": "code",
   "execution_count": null,
   "metadata": {},
   "outputs": [],
   "source": []
  }
 ]
}