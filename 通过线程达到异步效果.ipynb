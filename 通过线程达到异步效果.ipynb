{
 "cells": [
  {
   "cell_type": "code",
   "execution_count": 6,
   "metadata": {},
   "outputs": [],
   "source": [
    "from threading import Thread\n",
    "import time"
   ]
  },
  {
   "cell_type": "code",
   "execution_count": 7,
   "metadata": {},
   "outputs": [],
   "source": [
    "def test_func(sec):\n",
    "    print(\"test func start\")\n",
    "    time.sleep(sec)\n",
    "    print(\"test func end\")"
   ]
  },
  {
   "cell_type": "code",
   "execution_count": 8,
   "metadata": {},
   "outputs": [
    {
     "name": "stdout",
     "output_type": "stream",
     "text": [
      "main start\n",
      "test func start\n",
      "test func end\n",
      "main end\n"
     ]
    }
   ],
   "source": [
    "\n",
    "def main():\n",
    "    print(\"main start\")\n",
    "    t = Thread(target=test_func, args=(10,))\n",
    "    t.start()\n",
    "    t.join() #阻塞主线程直到创建的线程运行结束\n",
    "    print(\"main end\")\n",
    "\n",
    "main()"
   ]
  },
  {
   "cell_type": "code",
   "execution_count": 9,
   "metadata": {},
   "outputs": [
    {
     "name": "stdout",
     "output_type": "stream",
     "text": [
      "main start\n",
      "test func start\n",
      "main end\n"
     ]
    },
    {
     "name": "stdout",
     "output_type": "stream",
     "text": [
      "test func end\n"
     ]
    }
   ],
   "source": [
    "def main2():\n",
    "    print(\"main start\")\n",
    "    t = Thread(target=test_func, args=(10,))\n",
    "    t.start()\n",
    "    print(\"main end\")\n",
    "\n",
    "main2()"
   ]
  },
  {
   "cell_type": "code",
   "execution_count": null,
   "metadata": {},
   "outputs": [],
   "source": []
  }
 ],
 "metadata": {
  "kernelspec": {
   "display_name": "base",
   "language": "python",
   "name": "python3"
  },
  "language_info": {
   "codemirror_mode": {
    "name": "ipython",
    "version": 3
   },
   "file_extension": ".py",
   "mimetype": "text/x-python",
   "name": "python",
   "nbconvert_exporter": "python",
   "pygments_lexer": "ipython3",
   "version": "3.9.7"
  }
 },
 "nbformat": 4,
 "nbformat_minor": 2
}
