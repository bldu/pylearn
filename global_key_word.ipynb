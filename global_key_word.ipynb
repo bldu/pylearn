{
 "cells": [
  {
   "cell_type": "markdown",
   "metadata": {},
   "source": [
    "通过`global`关键字可以在多个函数中共享一个全局变量"
   ]
  },
  {
   "cell_type": "code",
   "execution_count": 3,
   "metadata": {},
   "outputs": [
    {
     "name": "stdout",
     "output_type": "stream",
     "text": [
      "0\n",
      "0\n",
      "0\n",
      "local variable 'g' referenced before assignment\n",
      "1\n"
     ]
    }
   ],
   "source": [
    "def func1():\n",
    "    global g\n",
    "    g = 0\n",
    "    print(g)\n",
    "\n",
    "def func2():\n",
    "    global g\n",
    "    print(g)\n",
    "\n",
    "\n",
    "def func3():\n",
    "    print(g)\n",
    "\n",
    "def func4():\n",
    "    try:\n",
    "        g+=1\n",
    "        print(g)\n",
    "    except Exception as e:\n",
    "        print(e)\n",
    "\n",
    "\n",
    "def func5():\n",
    "    global g\n",
    "    g+=1\n",
    "    print(g)\n",
    "\n",
    "def main():\n",
    "    func1()\n",
    "    func2()\n",
    "    func3()\n",
    "    func4()\n",
    "    func5()\n",
    "\n",
    "main()"
   ]
  },
  {
   "cell_type": "code",
   "execution_count": null,
   "metadata": {},
   "outputs": [],
   "source": []
  }
 ],
 "metadata": {
  "kernelspec": {
   "display_name": "base",
   "language": "python",
   "name": "python3"
  },
  "language_info": {
   "codemirror_mode": {
    "name": "ipython",
    "version": 3
   },
   "file_extension": ".py",
   "mimetype": "text/x-python",
   "name": "python",
   "nbconvert_exporter": "python",
   "pygments_lexer": "ipython3",
   "version": "3.9.7"
  }
 },
 "nbformat": 4,
 "nbformat_minor": 2
}
