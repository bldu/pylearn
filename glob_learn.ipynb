{
 "cells": [
  {
   "cell_type": "code",
   "execution_count": 2,
   "source": [
    "import glob"
   ],
   "outputs": [],
   "metadata": {}
  },
  {
   "cell_type": "code",
   "execution_count": 3,
   "source": [
    "glob.glob(r\"./*.ipynb\")"
   ],
   "outputs": [
    {
     "output_type": "execute_result",
     "data": {
      "text/plain": [
       "['./attempts.ipynb',\n",
       " './multiprocess_module.ipynb',\n",
       " './decorator.ipynb',\n",
       " './base64_learn.ipynb',\n",
       " './dict_dict.ipynb',\n",
       " './string_manipulation.ipynb',\n",
       " './sort_sort.ipynb',\n",
       " './io_example.ipynb',\n",
       " './JiGuChuanHua.ipynb',\n",
       " './re_module.ipynb',\n",
       " './character_bbox.ipynb',\n",
       " './glob_learn.ipynb',\n",
       " './reference.ipynb',\n",
       " './os_module.ipynb',\n",
       " './unpack_arg.ipynb']"
      ]
     },
     "metadata": {},
     "execution_count": 3
    }
   ],
   "metadata": {}
  },
  {
   "cell_type": "code",
   "execution_count": null,
   "source": [],
   "outputs": [],
   "metadata": {}
  }
 ],
 "metadata": {
  "orig_nbformat": 4,
  "language_info": {
   "name": "python",
   "version": "3.6.13",
   "mimetype": "text/x-python",
   "codemirror_mode": {
    "name": "ipython",
    "version": 3
   },
   "pygments_lexer": "ipython3",
   "nbconvert_exporter": "python",
   "file_extension": ".py"
  },
  "kernelspec": {
   "name": "python3",
   "display_name": "Python 3.6.13 64-bit ('py36': pyenv)"
  },
  "interpreter": {
   "hash": "ec6ac128d56a3ba3aa7fe5753aaba629413f829b6a8e275630d223c0bdff08ac"
  }
 },
 "nbformat": 4,
 "nbformat_minor": 2
}