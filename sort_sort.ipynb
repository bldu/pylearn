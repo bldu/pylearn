{
 "cells": [
  {
   "cell_type": "code",
   "execution_count": 2,
   "metadata": {},
   "outputs": [
    {
     "name": "stdout",
     "output_type": "stream",
     "text": [
      "[1, 2, 3, 4, 5]\n",
      "[5, 4, 3, 2, 1]\n"
     ]
    }
   ],
   "source": [
    "# 普通sort\n",
    "a = [5, 2, 3, 1, 4]\n",
    "print(sorted(a))\n",
    "print(sorted(a)[::-1])"
   ]
  },
  {
   "cell_type": "code",
   "execution_count": 5,
   "metadata": {},
   "outputs": [
    {
     "name": "stdout",
     "output_type": "stream",
     "text": [
      "[('dave', 'B', 10), ('jane', 'B', 12), ('john', 'A', 15)]\n",
      "[('john', 'A', 15), ('dave', 'B', 10), ('jane', 'B', 12)]\n"
     ]
    }
   ],
   "source": [
    "# 按某个维度排序\n",
    "student_tuples = [\n",
    "        ('john', 'A', 15),\n",
    "        ('jane', 'B', 12),\n",
    "        ('dave', 'B', 10),\n",
    "]\n",
    "print(sorted(student_tuples, key=lambda student: student[2]))   # sort by age\n",
    "print(sorted(student_tuples, key=lambda student: (student[1], student[2])))   # sort by grade and age"
   ]
  },
  {
   "cell_type": "code",
   "execution_count": 21,
   "metadata": {},
   "outputs": [
    {
     "name": "stdout",
     "output_type": "stream",
     "text": [
      "[('bob', 'C', 12), ('dave', 'B', 10), ('jane', 'B', 12), ('john', 'A', 15)]\n",
      "[('dave', 'B', 10), ('bob', 'C', 12), ('jane', 'B', 12), ('john', 'A', 15)]\n",
      "[('dave', 'B', 10), ('jane', 'B', 12), ('bob', 'C', 12), ('john', 'A', 15)]\n"
     ]
    }
   ],
   "source": [
    "# 调用operator模块中的 itemgetter() 可以实现根据多个参数排序：\n",
    "from  operator import itemgetter\n",
    "student_tuples = [\n",
    "        ('john', 'A', 15),\n",
    "        ('jane', 'B', 12),\n",
    "        ('dave', 'B', 10),\n",
    "        ('bob', 'C', 12),\n",
    "]\n",
    "print(sorted(student_tuples, key=itemgetter(0)))\n",
    "# 多参数排序\n",
    "print(sorted(student_tuples, key=itemgetter(2,0)))\n",
    "print(sorted(student_tuples, key=itemgetter(2,1)))"
   ]
  },
  {
   "cell_type": "code",
   "execution_count": 4,
   "metadata": {},
   "outputs": [
    {
     "data": {
      "text/plain": [
       "['a', 'Andrew', 'from', 'is', 'string', 'test', 'This']"
      ]
     },
     "execution_count": 4,
     "metadata": {},
     "output_type": "execute_result"
    }
   ],
   "source": [
    "#\n",
    "sorted(\"This is a test string from Andrew\".split(), key=str.lower)"
   ]
  },
  {
   "cell_type": "code",
   "execution_count": null,
   "metadata": {},
   "outputs": [],
   "source": []
  }
 ],
 "metadata": {
  "kernelspec": {
   "display_name": "py38",
   "language": "python",
   "name": "python3"
  },
  "language_info": {
   "codemirror_mode": {
    "name": "ipython",
    "version": 3
   },
   "file_extension": ".py",
   "mimetype": "text/x-python",
   "name": "python",
   "nbconvert_exporter": "python",
   "pygments_lexer": "ipython3",
   "version": "3.8.17"
  },
  "orig_nbformat": 2
 },
 "nbformat": 4,
 "nbformat_minor": 2
}
