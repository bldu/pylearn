{
 "metadata": {
  "language_info": {
   "codemirror_mode": {
    "name": "ipython",
    "version": 3
   },
   "file_extension": ".py",
   "mimetype": "text/x-python",
   "name": "python",
   "nbconvert_exporter": "python",
   "pygments_lexer": "ipython3",
   "version": "3.6.12"
  },
  "orig_nbformat": 2,
  "kernelspec": {
   "name": "python3612jvsc74a57bd01082b27f2b3cc8d7bc59e9528a62db72968e9972e564d4e07be9bc7809555110",
   "display_name": "Python 3.6.12 64-bit ('myenv': pyenv)"
  }
 },
 "nbformat": 4,
 "nbformat_minor": 2,
 "cells": [
  {
   "source": [
    "https://www.cnblogs.com/shenjianping/p/11647473.html"
   ],
   "cell_type": "markdown",
   "metadata": {}
  },
  {
   "cell_type": "code",
   "execution_count": 15,
   "metadata": {},
   "outputs": [],
   "source": [
    "import re\n",
    "matched_str = '1234abcd789'"
   ]
  },
  {
   "source": [
    "## re.search（pattern，string，flags = 0 ）\n",
    "扫描字符串以查找正则表达式模式产生匹配项的第一个位置 ，然后返回相应的match对象。"
   ],
   "cell_type": "markdown",
   "metadata": {}
  },
  {
   "cell_type": "code",
   "execution_count": 16,
   "metadata": {},
   "outputs": [
    {
     "output_type": "stream",
     "name": "stdout",
     "text": [
      "a\n1\n12\n1234\n1234\n"
     ]
    }
   ],
   "source": [
    "print(re.search('a', matched_str).group())\n",
    "print(re.search('\\d', matched_str).group())\n",
    "print(re.search('\\d{2}', matched_str).group())\n",
    "print(re.search('\\d+', matched_str).group())  # 贪婪匹配\n",
    "print(re.search('[\\d]+', matched_str).group())"
   ]
  },
  {
   "source": [
    "## re.match（pattern，string，flags = 0 ）\n",
    "如果字符串**开头**的零个或多个字符与正则表达式模式匹配，则返回相应的匹配对象。"
   ],
   "cell_type": "markdown",
   "metadata": {}
  },
  {
   "cell_type": "code",
   "execution_count": 14,
   "metadata": {},
   "outputs": [
    {
     "output_type": "stream",
     "name": "stdout",
     "text": [
      "None\n12\n"
     ]
    }
   ],
   "source": [
    "print(re.match('a', matched_str))  # None, 仅匹配开头位置\n",
    "print(re.match('\\d{2}', matched_str).group())"
   ]
  },
  {
   "source": [
    "## re.findall（pattern，string，flags = 0 ）\n",
    "　　以string列表形式返回string中pattern的所有非重叠匹配项。从左到右扫描该字符串，并以找到的顺序返回匹配项。如果该模式中存在一个或多个组，则返回一个组列表；否则，返回一个列表。如果模式包含多个组，则这将是一个元组列表。空匹配项包含在结果中。"
   ],
   "cell_type": "markdown",
   "metadata": {}
  },
  {
   "cell_type": "code",
   "execution_count": 18,
   "metadata": {},
   "outputs": [
    {
     "output_type": "stream",
     "name": "stdout",
     "text": [
      "['1234', '789']\n"
     ]
    }
   ],
   "source": [
    "print(re.findall('\\d+', matched_str))"
   ]
  },
  {
   "cell_type": "code",
   "execution_count": null,
   "metadata": {},
   "outputs": [],
   "source": []
  }
 ]
}