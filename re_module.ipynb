{
 "metadata": {
  "language_info": {
   "codemirror_mode": {
    "name": "ipython",
    "version": 3
   },
   "file_extension": ".py",
   "mimetype": "text/x-python",
   "name": "python",
   "nbconvert_exporter": "python",
   "pygments_lexer": "ipython3",
   "version": "3.6.12"
  },
  "orig_nbformat": 2,
  "kernelspec": {
   "name": "python3612jvsc74a57bd01082b27f2b3cc8d7bc59e9528a62db72968e9972e564d4e07be9bc7809555110",
   "display_name": "Python 3.6.12 64-bit ('myenv': pyenv)"
  }
 },
 "nbformat": 4,
 "nbformat_minor": 2,
 "cells": [
  {
   "cell_type": "code",
   "execution_count": 11,
   "metadata": {},
   "outputs": [],
   "source": [
    "import re\n",
    "matched_str = '1234abcd789'"
   ]
  },
  {
   "source": [
    "## re.search（pattern，string，flags = 0 ）\n",
    "扫描字符串以查找正则表达式模式产生匹配项的第一个位置 ，然后返回相应的match对象。"
   ],
   "cell_type": "markdown",
   "metadata": {}
  },
  {
   "cell_type": "code",
   "execution_count": 12,
   "metadata": {},
   "outputs": [
    {
     "output_type": "stream",
     "name": "stdout",
     "text": [
      "a\n1\n12\n1234\n"
     ]
    }
   ],
   "source": [
    "print(re.search('a', matched_str).group())\n",
    "print(re.search('\\d', matched_str).group())\n",
    "print(re.search('\\d{2}', matched_str).group())\n",
    "print(re.search('\\d+', matched_str).group())  # 贪婪匹配"
   ]
  },
  {
   "source": [
    "## re.match（pattern，string，flags = 0 ）\n",
    "如果字符串**开头**的零个或多个字符与正则表达式模式匹配，则返回相应的匹配对象。"
   ],
   "cell_type": "markdown",
   "metadata": {}
  },
  {
   "cell_type": "code",
   "execution_count": 14,
   "metadata": {},
   "outputs": [
    {
     "output_type": "stream",
     "name": "stdout",
     "text": [
      "None\n12\n"
     ]
    }
   ],
   "source": [
    "print(re.match('a', matched_str))  # None, 仅匹配开头位置\n",
    "print(re.match('\\d{2}', matched_str).group())"
   ]
  },
  {
   "cell_type": "code",
   "execution_count": null,
   "metadata": {},
   "outputs": [],
   "source": []
  }
 ]
}