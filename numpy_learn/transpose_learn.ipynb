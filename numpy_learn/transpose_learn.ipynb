{
 "cells": [
  {
   "cell_type": "code",
   "execution_count": 7,
   "outputs": [
    {
     "name": "stdout",
     "output_type": "stream",
     "text": [
      "Shape of x:\n",
      "(1, 2, 3, 5)\n",
      "\n",
      "Shape of x_permuted:\n",
      "(5, 1, 3, 2)\n",
      "(5, 1, 3, 2)\n"
     ]
    }
   ],
   "source": [
    "import numpy as np\n",
    "\n",
    "x = np.random.random((1, 2, 3, 5))\n",
    "\n",
    "print(\"Shape of x:\")\n",
    "print(x.shape)\n",
    "\n",
    "x_permuted=np.transpose(x, (3, 0, 2,1))\n",
    "\n",
    "x_permuted_2 = x.transpose((3,0,2,1))\n",
    "\n",
    "print(\"\\nShape of x_permuted:\")\n",
    "print(x_permuted.shape)\n",
    "print(x_permuted_2.shape)"
   ],
   "metadata": {
    "collapsed": false,
    "pycharm": {
     "name": "#%%\n"
    }
   }
  },
  {
   "cell_type": "code",
   "execution_count": null,
   "outputs": [],
   "source": [],
   "metadata": {
    "collapsed": false,
    "pycharm": {
     "name": "#%%\n"
    }
   }
  }
 ],
 "metadata": {
  "kernelspec": {
   "display_name": "Python 3",
   "language": "python",
   "name": "python3"
  },
  "language_info": {
   "codemirror_mode": {
    "name": "ipython",
    "version": 2
   },
   "file_extension": ".py",
   "mimetype": "text/x-python",
   "name": "python",
   "nbconvert_exporter": "python",
   "pygments_lexer": "ipython2",
   "version": "2.7.6"
  }
 },
 "nbformat": 4,
 "nbformat_minor": 0
}