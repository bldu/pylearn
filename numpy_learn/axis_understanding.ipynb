{
 "cells": [
  {
   "cell_type": "code",
   "execution_count": 6,
   "metadata": {
    "collapsed": true
   },
   "outputs": [
    {
     "name": "stdout",
     "output_type": "stream",
     "text": [
      "[[[4 1 3 4]\n",
      "  [6 8 4 6]\n",
      "  [7 7 4 1]]\n",
      "\n",
      " [[2 3 7 9]\n",
      "  [4 3 9 2]\n",
      "  [9 1 3 4]]]\n"
     ]
    }
   ],
   "source": [
    "import numpy as np\n",
    "a = np.random.randint(1,10,size=(2,3,4))\n",
    "print(a)"
   ]
  },
  {
   "cell_type": "markdown",
   "source": [
    "例子中我们的数组a是三维的，即每一个元素可写为 $a_{i,j,k}$。\n",
    "在axis=m上操作, 表示对a的第m个下标进行操作。如这里对a的axis=0求和，就是 $\\sum_i a_{i,:,:}$"
   ],
   "metadata": {
    "collapsed": false
   }
  },
  {
   "cell_type": "code",
   "execution_count": 14,
   "outputs": [
    {
     "name": "stdout",
     "output_type": "stream",
     "text": [
      "[[ 6  4 10 13]\n",
      " [10 11 13  8]\n",
      " [16  8  7  5]]\n"
     ]
    }
   ],
   "source": [
    "print(np.sum(a,axis=0))"
   ],
   "metadata": {
    "collapsed": false,
    "pycharm": {
     "name": "#%%\n"
    }
   }
  },
  {
   "cell_type": "markdown",
   "source": [
    "$\\sum_j a_{:,j,:}$"
   ],
   "metadata": {
    "collapsed": false
   }
  },
  {
   "cell_type": "code",
   "execution_count": 12,
   "outputs": [
    {
     "name": "stdout",
     "output_type": "stream",
     "text": [
      "[[17 16 11 11]\n",
      " [15  7 19 15]]\n"
     ]
    }
   ],
   "source": [
    "print(np.sum(a,axis=1))"
   ],
   "metadata": {
    "collapsed": false,
    "pycharm": {
     "name": "#%%\n"
    }
   }
  },
  {
   "cell_type": "markdown",
   "source": [
    "$\\sum_k a_{:,:,k}$"
   ],
   "metadata": {
    "collapsed": false
   }
  },
  {
   "cell_type": "code",
   "execution_count": 13,
   "outputs": [
    {
     "name": "stdout",
     "output_type": "stream",
     "text": [
      "[[12 24 19]\n",
      " [21 18 17]]\n"
     ]
    }
   ],
   "source": [
    "print(np.sum(a,axis=2))"
   ],
   "metadata": {
    "collapsed": false,
    "pycharm": {
     "name": "#%%\n"
    }
   }
  },
  {
   "cell_type": "code",
   "execution_count": null,
   "outputs": [],
   "source": [],
   "metadata": {
    "collapsed": false,
    "pycharm": {
     "name": "#%%\n"
    }
   }
  }
 ],
 "metadata": {
  "kernelspec": {
   "display_name": "Python 3",
   "language": "python",
   "name": "python3"
  },
  "language_info": {
   "codemirror_mode": {
    "name": "ipython",
    "version": 2
   },
   "file_extension": ".py",
   "mimetype": "text/x-python",
   "name": "python",
   "nbconvert_exporter": "python",
   "pygments_lexer": "ipython2",
   "version": "2.7.6"
  }
 },
 "nbformat": 4,
 "nbformat_minor": 0
}