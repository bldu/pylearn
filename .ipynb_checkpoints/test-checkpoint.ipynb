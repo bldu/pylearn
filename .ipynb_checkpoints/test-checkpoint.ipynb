{
 "cells": [
  {
   "cell_type": "code",
   "execution_count": 1,
   "metadata": {
    "ExecuteTime": {
     "end_time": "2020-07-12T22:10:10.154889Z",
     "start_time": "2020-07-12T22:10:10.151919Z"
    }
   },
   "outputs": [],
   "source": [
    "a = [1,2,3]"
   ]
  },
  {
   "cell_type": "code",
   "execution_count": 2,
   "metadata": {
    "ExecuteTime": {
     "end_time": "2020-07-12T22:10:16.694133Z",
     "start_time": "2020-07-12T22:10:16.682872Z"
    }
   },
   "outputs": [
    {
     "data": {
      "text/plain": [
       "[1, 2, 3]"
      ]
     },
     "execution_count": 2,
     "metadata": {},
     "output_type": "execute_result"
    }
   ],
   "source": [
    "a"
   ]
  },
  {
   "cell_type": "code",
   "execution_count": 3,
   "metadata": {
    "ExecuteTime": {
     "end_time": "2020-07-12T22:11:11.722937Z",
     "start_time": "2020-07-12T22:11:11.717800Z"
    }
   },
   "outputs": [
    {
     "name": "stdout",
     "output_type": "stream",
     "text": [
      "[1, 2]\n",
      "[1, 2, 3]\n",
      "[2, 3]\n"
     ]
    }
   ],
   "source": [
    "print(a[0:-1])\n",
    "print(a[0:])\n",
    "print(a[1:])"
   ]
  },
  {
   "cell_type": "code",
   "execution_count": null,
   "metadata": {},
   "outputs": [],
   "source": [
    "class Solution:\n",
    "    def movingCount(self, m: int, n: int, k: int) -> int:\n",
    "\n",
    "        def digitSum(x):\n",
    "            sum = 0\n",
    "            y = x\n",
    "            while ((y // 10) != 0):\n",
    "                sum += y % 10\n",
    "                y = y // 10\n",
    "            sum += y\n",
    "            return sum\n",
    "\n",
    "        def isValid(mm,nn,kk):\n",
    "            sum = digitSum(mm) + digitSum(nn)\n",
    "            if sum > kk or (not 0 <= i < m) or (not 0 <= j < n):\n",
    "                return False\n",
    "            return True\n",
    "\n",
    "        fillArray = [[-1 for j in range(n)] for i in range(m)]\n",
    "\n",
    "        #deep fist search, priority: right > down\n",
    "        def dfs(i,j):\n",
    "            # this condition is for the least-priority search, i.e. down-search\n",
    "            if not isValid(i,j,k):\n",
    "                return\n",
    "            fillArray[i][j] = 1\n",
    "            if isValid(i,j+1,k):\n",
    "                # go right\n",
    "                return dfs(i,j+1)\n",
    "            # go down\n",
    "            return dfs(i+1,j)\n",
    "\n",
    "        for i in range(m):\n",
    "            dfs(i,0)\n",
    "            \n",
    "        count = 0\n",
    "        for i in range(m):\n",
    "            for j in range(n):\n",
    "                if fillArray[i][j] == 1:\n",
    "                    count += 1\n",
    "        return count\n",
    "\n"
   ]
  }
 ],
 "metadata": {
  "kernelspec": {
   "display_name": "Python 3",
   "language": "python",
   "name": "python3"
  },
  "language_info": {
   "codemirror_mode": {
    "name": "ipython",
    "version": 3
   },
   "file_extension": ".py",
   "mimetype": "text/x-python",
   "name": "python",
   "nbconvert_exporter": "python",
   "pygments_lexer": "ipython3",
   "version": "3.9.2"
  },
  "toc": {
   "base_numbering": 1,
   "nav_menu": {},
   "number_sections": true,
   "sideBar": true,
   "skip_h1_title": false,
   "title_cell": "Table of Contents",
   "title_sidebar": "Contents",
   "toc_cell": false,
   "toc_position": {},
   "toc_section_display": true,
   "toc_window_display": false
  },
  "varInspector": {
   "cols": {
    "lenName": 16,
    "lenType": 16,
    "lenVar": 40
   },
   "kernels_config": {
    "python": {
     "delete_cmd_postfix": "",
     "delete_cmd_prefix": "del ",
     "library": "var_list.py",
     "varRefreshCmd": "print(var_dic_list())"
    },
    "r": {
     "delete_cmd_postfix": ") ",
     "delete_cmd_prefix": "rm(",
     "library": "var_list.r",
     "varRefreshCmd": "cat(var_dic_list()) "
    }
   },
   "types_to_exclude": [
    "module",
    "function",
    "builtin_function_or_method",
    "instance",
    "_Feature"
   ],
   "window_display": false
  }
 },
 "nbformat": 4,
 "nbformat_minor": 2
}
