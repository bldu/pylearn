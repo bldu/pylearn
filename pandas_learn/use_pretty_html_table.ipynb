{
 "cells": [
  {
   "cell_type": "code",
   "execution_count": 4,
   "metadata": {},
   "outputs": [
    {
     "name": "stdout",
     "output_type": "stream",
     "text": [
      "  company  salary  age\n",
      "0       C       8   20\n",
      "1       A      37   30\n",
      "2       C      35   47\n",
      "3       A      24   30\n",
      "4       B      11   24\n",
      "5       B      41   40\n",
      "6       B       8   44\n",
      "7       C      15   23\n",
      "8       C      46   27\n",
      "9       C      28   31\n"
     ]
    }
   ],
   "source": [
    "import pandas as pd\n",
    "import numpy as np\n",
    "from pretty_html_table import build_table\n",
    "\n",
    "\n",
    "company=[\"A\",\"B\",\"C\"]\n",
    "\n",
    "df = pd.DataFrame({\n",
    "    \"company\":[company[x] for x in np.random.randint(0,len(company),10)],\n",
    "    \"salary\":np.random.randint(5,50,10),\n",
    "    \"age\":np.random.randint(15,50,10)\n",
    "}\n",
    ")\n",
    "print(df)"
   ]
  },
  {
   "cell_type": "code",
   "execution_count": 7,
   "metadata": {},
   "outputs": [],
   "source": [
    "table = build_table(df, \"blue_light\", index=False)\n",
    "html_file = \"./demo.html\"\n",
    "with open(html_file, \"w\") as f:\n",
    "    f.write(\"demo\\n\")\n",
    "    f.write(table)\n"
   ]
  },
  {
   "cell_type": "code",
   "execution_count": null,
   "metadata": {},
   "outputs": [],
   "source": []
  }
 ],
 "metadata": {
  "kernelspec": {
   "display_name": "base",
   "language": "python",
   "name": "python3"
  },
  "language_info": {
   "codemirror_mode": {
    "name": "ipython",
    "version": 3
   },
   "file_extension": ".py",
   "mimetype": "text/x-python",
   "name": "python",
   "nbconvert_exporter": "python",
   "pygments_lexer": "ipython3",
   "version": "3.9.7"
  }
 },
 "nbformat": 4,
 "nbformat_minor": 2
}
