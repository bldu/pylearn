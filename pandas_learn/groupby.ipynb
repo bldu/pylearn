{
 "cells": [
  {
   "cell_type": "markdown",
   "metadata": {},
   "source": [
    "https://zhuanlan.zhihu.com/p/101284491"
   ]
  },
  {
   "cell_type": "code",
   "execution_count": 2,
   "metadata": {},
   "outputs": [
    {
     "data": {
      "text/html": [
       "<div>\n",
       "<style scoped>\n",
       "    .dataframe tbody tr th:only-of-type {\n",
       "        vertical-align: middle;\n",
       "    }\n",
       "\n",
       "    .dataframe tbody tr th {\n",
       "        vertical-align: top;\n",
       "    }\n",
       "\n",
       "    .dataframe thead th {\n",
       "        text-align: right;\n",
       "    }\n",
       "</style>\n",
       "<table border=\"1\" class=\"dataframe\">\n",
       "  <thead>\n",
       "    <tr style=\"text-align: right;\">\n",
       "      <th></th>\n",
       "      <th>company</th>\n",
       "      <th>salary</th>\n",
       "      <th>age</th>\n",
       "    </tr>\n",
       "  </thead>\n",
       "  <tbody>\n",
       "    <tr>\n",
       "      <th>0</th>\n",
       "      <td>A</td>\n",
       "      <td>33</td>\n",
       "      <td>43</td>\n",
       "    </tr>\n",
       "    <tr>\n",
       "      <th>1</th>\n",
       "      <td>C</td>\n",
       "      <td>21</td>\n",
       "      <td>40</td>\n",
       "    </tr>\n",
       "    <tr>\n",
       "      <th>2</th>\n",
       "      <td>A</td>\n",
       "      <td>40</td>\n",
       "      <td>32</td>\n",
       "    </tr>\n",
       "    <tr>\n",
       "      <th>3</th>\n",
       "      <td>C</td>\n",
       "      <td>7</td>\n",
       "      <td>15</td>\n",
       "    </tr>\n",
       "    <tr>\n",
       "      <th>4</th>\n",
       "      <td>C</td>\n",
       "      <td>41</td>\n",
       "      <td>23</td>\n",
       "    </tr>\n",
       "    <tr>\n",
       "      <th>5</th>\n",
       "      <td>B</td>\n",
       "      <td>34</td>\n",
       "      <td>15</td>\n",
       "    </tr>\n",
       "    <tr>\n",
       "      <th>6</th>\n",
       "      <td>C</td>\n",
       "      <td>7</td>\n",
       "      <td>47</td>\n",
       "    </tr>\n",
       "    <tr>\n",
       "      <th>7</th>\n",
       "      <td>A</td>\n",
       "      <td>42</td>\n",
       "      <td>21</td>\n",
       "    </tr>\n",
       "    <tr>\n",
       "      <th>8</th>\n",
       "      <td>B</td>\n",
       "      <td>30</td>\n",
       "      <td>41</td>\n",
       "    </tr>\n",
       "    <tr>\n",
       "      <th>9</th>\n",
       "      <td>C</td>\n",
       "      <td>5</td>\n",
       "      <td>31</td>\n",
       "    </tr>\n",
       "  </tbody>\n",
       "</table>\n",
       "</div>"
      ],
      "text/plain": [
       "  company  salary  age\n",
       "0       A      33   43\n",
       "1       C      21   40\n",
       "2       A      40   32\n",
       "3       C       7   15\n",
       "4       C      41   23\n",
       "5       B      34   15\n",
       "6       C       7   47\n",
       "7       A      42   21\n",
       "8       B      30   41\n",
       "9       C       5   31"
      ]
     },
     "execution_count": 2,
     "metadata": {},
     "output_type": "execute_result"
    }
   ],
   "source": [
    "import pandas as pd\n",
    "import numpy as np\n",
    "\n",
    "\n",
    "company=[\"A\",\"B\",\"C\"]\n",
    "\n",
    "df = pd.DataFrame({\n",
    "    \"company\":[company[x] for x in np.random.randint(0,len(company),10)],\n",
    "    \"salary\":np.random.randint(5,50,10),\n",
    "    \"age\":np.random.randint(15,50,10)\n",
    "}\n",
    ")\n",
    "\n",
    "df"
   ]
  },
  {
   "cell_type": "code",
   "execution_count": 9,
   "metadata": {},
   "outputs": [
    {
     "name": "stdout",
     "output_type": "stream",
     "text": [
      "pandas.core.groupby.generic.DataFrameGroupBy\n",
      "**********\n",
      "            salary   age\n",
      "company                 \n",
      "A        38.333333  32.0\n",
      "B        32.000000  28.0\n",
      "C        16.200000  31.2\n",
      "<class 'pandas.core.frame.DataFrame'>\n",
      "Index(['A', 'B', 'C'], dtype='object', name='company')\n",
      "Index(['salary', 'age'], dtype='object')\n",
      "**********\n",
      "            salary   age\n",
      "              mean  mean\n",
      "company                 \n",
      "A        38.333333  32.0\n",
      "B        32.000000  28.0\n",
      "C        16.200000  31.2\n",
      "<class 'pandas.core.frame.DataFrame'>\n",
      "Index(['A', 'B', 'C'], dtype='object', name='company')\n",
      "MultiIndex([('salary', 'mean'),\n",
      "            (   'age', 'mean')],\n",
      "           )\n"
     ]
    }
   ],
   "source": [
    "group = df.groupby(\"company\")\n",
    "print(type(group))\n",
    "print(\"*\"*10)\n",
    "group_mean1 = group.agg(\"mean\")\n",
    "print(group_mean1)\n",
    "print(type(group_mean1))\n",
    "print(group_mean1.index)\n",
    "print(group_mean1.columns)\n",
    "print(\"*\"*10)\n",
    "group_mean2 = group.agg([\"mean\"])\n",
    "print(group_mean2)\n",
    "print(type(group_mean2))\n",
    "print(group_mean2.index)\n",
    "print(group_mean2.columns)"
   ]
  },
  {
   "cell_type": "code",
   "execution_count": 19,
   "metadata": {},
   "outputs": [
    {
     "name": "stdout",
     "output_type": "stream",
     "text": [
      "company\n",
      "A    38.333333\n",
      "B    32.000000\n",
      "C    16.200000\n",
      "Name: salary, dtype: float64\n",
      "<class 'pandas.core.series.Series'>\n",
      "********************\n",
      "            salary\n",
      "company           \n",
      "A        38.333333\n",
      "B        32.000000\n",
      "C        16.200000\n",
      "<class 'pandas.core.frame.DataFrame'>\n"
     ]
    }
   ],
   "source": [
    "print(group_mean1[\"salary\"])\n",
    "print(type(group_mean1[\"salary\"]))\n",
    "print(\"*\"*20)\n",
    "print((group_mean1[[\"salary\"]]))\n",
    "print(type((group_mean1[[\"salary\"]])))"
   ]
  },
  {
   "cell_type": "code",
   "execution_count": 23,
   "metadata": {},
   "outputs": [
    {
     "name": "stdout",
     "output_type": "stream",
     "text": [
      "company\n",
      "A     6.333333\n",
      "B     4.000000\n",
      "C   -15.000000\n",
      "dtype: float64\n",
      "         age  salary\n",
      "company             \n",
      "A        NaN     NaN\n",
      "B        NaN     NaN\n",
      "C        NaN     NaN\n"
     ]
    }
   ],
   "source": [
    "print(group_mean1[\"salary\"] - group_mean1[\"age\"])\n",
    "print(group_mean1[[\"salary\"]] - group_mean1[[\"age\"]])"
   ]
  },
  {
   "cell_type": "code",
   "execution_count": null,
   "metadata": {},
   "outputs": [],
   "source": []
  }
 ],
 "metadata": {
  "kernelspec": {
   "display_name": "py36",
   "language": "python",
   "name": "python3"
  },
  "language_info": {
   "codemirror_mode": {
    "name": "ipython",
    "version": 3
   },
   "file_extension": ".py",
   "mimetype": "text/x-python",
   "name": "python",
   "nbconvert_exporter": "python",
   "pygments_lexer": "ipython3",
   "version": "3.6.13"
  },
  "orig_nbformat": 4
 },
 "nbformat": 4,
 "nbformat_minor": 2
}
