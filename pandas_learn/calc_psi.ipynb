{
 "cells": [
  {
   "cell_type": "code",
   "execution_count": 6,
   "metadata": {},
   "outputs": [
    {
     "name": "stdout",
     "output_type": "stream",
     "text": [
      "   company  salary  age\n",
      "0        B      17   48\n",
      "1        A      32   17\n",
      "2        A      26   35\n",
      "3        B      16   34\n",
      "4        B      12   47\n",
      "..     ...     ...  ...\n",
      "95       C       5   24\n",
      "96       A      34   40\n",
      "97       B      16   42\n",
      "98       C      40   16\n",
      "99       C      34   33\n",
      "\n",
      "[100 rows x 3 columns]\n",
      "   company  salary  age\n",
      "0        C      41   29\n",
      "1        A      23   48\n",
      "2        C      32   42\n",
      "3        A      33   28\n",
      "4        C      42   45\n",
      "..     ...     ...  ...\n",
      "95       C      10   15\n",
      "96       A      12   40\n",
      "97       C      19   22\n",
      "98       B      42   22\n",
      "99       C      46   48\n",
      "\n",
      "[100 rows x 3 columns]\n"
     ]
    }
   ],
   "source": [
    "import pandas as pd\n",
    "import numpy as np\n",
    "\n",
    "np.random.seed(1)\n",
    "company=[\"A\",\"B\",\"C\"]\n",
    "\n",
    "df1 = pd.DataFrame({\n",
    "    \"company\":[company[x] for x in np.random.randint(0,len(company),100)],\n",
    "    \"salary\":np.random.randint(5,50,100),\n",
    "    \"age\":np.random.randint(15,50,100)\n",
    "}\n",
    ")\n",
    "df2 = pd.DataFrame({\n",
    "    \"company\":[company[x] for x in np.random.randint(0,len(company),100)],\n",
    "    \"salary\":np.random.randint(5,50,100),\n",
    "    \"age\":np.random.randint(15,50,100)\n",
    "}\n",
    ")\n",
    "print(df1)\n",
    "print(df2)\n"
   ]
  },
  {
   "cell_type": "code",
   "execution_count": 7,
   "metadata": {},
   "outputs": [
    {
     "data": {
      "text/plain": [
       "0.10849683599078813"
      ]
     },
     "execution_count": 7,
     "metadata": {},
     "output_type": "execute_result"
    }
   ],
   "source": [
    "import copy\n",
    "\n",
    "def calc_freq_by_feature(df: pd.DataFrame, feature: str, bins: list):\n",
    "    tmp_df = copy.deepcopy(df)\n",
    "    tmp_df[\"feature_bin\"] = pd.cut(df[feature], bins=bins, labels=False)\n",
    "    grouped_df = tmp_df[[\"feature_bin\", feature]].groupby(\"feature_bin\").count().sort_index()\n",
    "    return grouped_df[feature]/len(df)\n",
    "\n",
    "def calc_psi_by_feature(df1: pd.DataFrame, df2: pd.DataFrame, feature: str, bin_num: int=10):\n",
    "    max_value = max(df1[feature].max(), df2[feature].max())\n",
    "    min_value = min(df1[feature].min(), df2[feature].min())\n",
    "    step = (max_value - min_value)/bin_num\n",
    "    bins = [min_value - 0.01] + [(min_value + step*i) for i in range(1, bin_num+1)]\n",
    "    s1 = calc_freq_by_feature(df1, feature, bins)\n",
    "    s2 = calc_freq_by_feature(df2, feature, bins)\n",
    "    #print(s1)\n",
    "    #print(s2)\n",
    "    psi = ((s1-s2)*np.log(s1/s2)).sum()\n",
    "    return psi\n",
    "\n",
    "calc_psi_by_feature(df1, df2, \"salary\", bin_num=10)\n"
   ]
  },
  {
   "cell_type": "code",
   "execution_count": null,
   "metadata": {},
   "outputs": [],
   "source": []
  }
 ],
 "metadata": {
  "kernelspec": {
   "display_name": "py36",
   "language": "python",
   "name": "python3"
  },
  "language_info": {
   "codemirror_mode": {
    "name": "ipython",
    "version": 3
   },
   "file_extension": ".py",
   "mimetype": "text/x-python",
   "name": "python",
   "nbconvert_exporter": "python",
   "pygments_lexer": "ipython3",
   "version": "3.9.7"
  }
 },
 "nbformat": 4,
 "nbformat_minor": 2
}
