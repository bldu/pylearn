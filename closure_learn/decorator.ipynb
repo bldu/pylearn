{
 "cells": [
  {
   "cell_type": "code",
   "execution_count": 7,
   "source": [
    "import time\n",
    "\n",
    "def timer(func):\n",
    "    def wrapper(*args, **kwargs):\n",
    "        start = time.time()\n",
    "        time.sleep(1)\n",
    "        res = func(*args, **kwargs)\n",
    "        stop = time.time()\n",
    "        print(\"time used: {}\".format(stop-start))\n",
    "        return res\n",
    "    return wrapper"
   ],
   "outputs": [],
   "metadata": {}
  },
  {
   "cell_type": "code",
   "execution_count": 8,
   "source": [
    "def add1(a,b):\n",
    "    return a+b\n",
    "\n",
    "add = timer(add1)\n",
    "print(add(1,2))"
   ],
   "outputs": [
    {
     "output_type": "stream",
     "name": "stdout",
     "text": [
      "time used: 1.0027101039886475\n",
      "3\n"
     ]
    }
   ],
   "metadata": {}
  },
  {
   "cell_type": "code",
   "execution_count": 9,
   "source": [
    "@timer\n",
    "def add2(a, b):\n",
    "    return a+b\n",
    "\n",
    "print(add2(1,2))\n"
   ],
   "outputs": [
    {
     "output_type": "stream",
     "name": "stdout",
     "text": [
      "time used: 1.0040099620819092\n",
      "3\n"
     ]
    }
   ],
   "metadata": {}
  },
  {
   "cell_type": "code",
   "execution_count": null,
   "source": [],
   "outputs": [],
   "metadata": {}
  }
 ],
 "metadata": {
  "orig_nbformat": 4,
  "language_info": {
   "name": "python"
  }
 },
 "nbformat": 4,
 "nbformat_minor": 2
}