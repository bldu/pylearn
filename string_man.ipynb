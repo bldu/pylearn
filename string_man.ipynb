{
 "metadata": {
  "language_info": {
   "codemirror_mode": {
    "name": "ipython",
    "version": 3
   },
   "file_extension": ".py",
   "mimetype": "text/x-python",
   "name": "python",
   "nbconvert_exporter": "python",
   "pygments_lexer": "ipython3",
   "version": "3.6.13"
  },
  "orig_nbformat": 2,
  "kernelspec": {
   "name": "python3",
   "display_name": "Python 3.6.13 64-bit ('3.6.13': pyenv)"
  },
  "interpreter": {
   "hash": "6bbf22b55396ba647ac89f3b930f0baae5039a7869d69bbfb811262f6425437f"
  }
 },
 "nbformat": 4,
 "nbformat_minor": 2,
 "cells": [
  {
   "source": [
    "## join"
   ],
   "cell_type": "markdown",
   "metadata": {}
  },
  {
   "cell_type": "code",
   "execution_count": 3,
   "metadata": {},
   "outputs": [
    {
     "output_type": "stream",
     "name": "stdout",
     "text": [
      "I am good\nI.am.good\n"
     ]
    }
   ],
   "source": [
    "s_list = ['I', 'am', 'good']\n",
    "print(' '.join(s_list))\n",
    "print('.'.join(s_list))"
   ]
  },
  {
   "source": [
    "## split"
   ],
   "cell_type": "markdown",
   "metadata": {}
  },
  {
   "cell_type": "code",
   "execution_count": 3,
   "metadata": {},
   "outputs": [
    {
     "output_type": "stream",
     "name": "stdout",
     "text": [
      "['You', 'are', 'good']\n['You', 'are', 'good']\n['You', 'are_good']\n"
     ]
    }
   ],
   "source": [
    "my_string = \"You are good\"\n",
    "print(my_string.split())\n",
    "\n",
    "my_string = \"You_are_good\"\n",
    "print(my_string.split(\"_\"))\n",
    "print(my_string.split(\"_\",1))"
   ]
  },
  {
   "cell_type": "code",
   "execution_count": null,
   "metadata": {},
   "outputs": [],
   "source": []
  }
 ]
}