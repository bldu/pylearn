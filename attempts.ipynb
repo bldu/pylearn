{
 "cells": [
  {
   "cell_type": "code",
   "execution_count": 1,
   "source": [
    "class ClsA:\n",
    "    def __init__(self, arg1):\n",
    "        self.arg1 = arg1\n",
    "    \n",
    "    def show_content(self):\n",
    "        print(self.arg1)"
   ],
   "outputs": [],
   "metadata": {}
  },
  {
   "cell_type": "code",
   "execution_count": 2,
   "source": [
    "a = ClsA(1)\n",
    "a.show_content()"
   ],
   "outputs": [
    {
     "output_type": "stream",
     "name": "stdout",
     "text": [
      "1\n"
     ]
    }
   ],
   "metadata": {}
  },
  {
   "cell_type": "code",
   "execution_count": 3,
   "source": [
    "ClsA(\"hello world\").show_content()"
   ],
   "outputs": [
    {
     "output_type": "stream",
     "name": "stdout",
     "text": [
      "hello world\n"
     ]
    }
   ],
   "metadata": {}
  },
  {
   "cell_type": "code",
   "execution_count": null,
   "source": [],
   "outputs": [],
   "metadata": {}
  }
 ],
 "metadata": {
  "orig_nbformat": 4,
  "language_info": {
   "name": "python",
   "version": "3.6.13",
   "mimetype": "text/x-python",
   "codemirror_mode": {
    "name": "ipython",
    "version": 3
   },
   "pygments_lexer": "ipython3",
   "nbconvert_exporter": "python",
   "file_extension": ".py"
  },
  "kernelspec": {
   "name": "python3",
   "display_name": "Python 3.6.13 64-bit ('3.6.13': pyenv)"
  },
  "interpreter": {
   "hash": "6bbf22b55396ba647ac89f3b930f0baae5039a7869d69bbfb811262f6425437f"
  }
 },
 "nbformat": 4,
 "nbformat_minor": 2
}