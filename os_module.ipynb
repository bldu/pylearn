{
 "metadata": {
  "language_info": {
   "codemirror_mode": {
    "name": "ipython",
    "version": 3
   },
   "file_extension": ".py",
   "mimetype": "text/x-python",
   "name": "python",
   "nbconvert_exporter": "python",
   "pygments_lexer": "ipython3",
   "version": "3.6.12"
  },
  "orig_nbformat": 2,
  "kernelspec": {
   "name": "python3612jvsc74a57bd01082b27f2b3cc8d7bc59e9528a62db72968e9972e564d4e07be9bc7809555110",
   "display_name": "Python 3.6.12 64-bit ('myenv': pyenv)"
  }
 },
 "nbformat": 4,
 "nbformat_minor": 2,
 "cells": [
  {
   "source": [
    "import os"
   ],
   "cell_type": "code",
   "metadata": {},
   "execution_count": 1,
   "outputs": []
  },
  {
   "source": [
    "## os.path.join(...)"
   ],
   "cell_type": "markdown",
   "metadata": {}
  },
  {
   "cell_type": "code",
   "execution_count": 2,
   "metadata": {},
   "outputs": [
    {
     "output_type": "stream",
     "name": "stdout",
     "text": [
      "parent/child\nparent/child\n"
     ]
    }
   ],
   "source": [
    "print(os.path.join('parent','child'))\n",
    "print(os.path.join('parent/', 'child'))"
   ]
  },
  {
   "source": [
    "## os.listdir(dir)\n",
    "returns list of file names under directory *dir* "
   ],
   "cell_type": "markdown",
   "metadata": {}
  },
  {
   "source": [
    "os.listdir('.')"
   ],
   "cell_type": "code",
   "metadata": {},
   "execution_count": 3,
   "outputs": [
    {
     "output_type": "execute_result",
     "data": {
      "text/plain": [
       "['.DS_Store',\n",
       " '.git',\n",
       " '.gitignore',\n",
       " '.ipynb_checkpoints',\n",
       " '.vscode',\n",
       " 'character_bbox.ipynb',\n",
       " 'images',\n",
       " 'io_example.ipynb',\n",
       " 'JiGuChuanHua.ipynb',\n",
       " 'multiprocess_module.ipynb',\n",
       " 'numpy_learn',\n",
       " 'opencv_learn',\n",
       " 'os_module.ipynb',\n",
       " 'reference.ipynb',\n",
       " 're_module.ipynb',\n",
       " 'sort_sort.ipynb',\n",
       " 'string_man.ipynb',\n",
       " 'unpack_arg.ipynb']"
      ]
     },
     "metadata": {},
     "execution_count": 3
    }
   ]
  },
  {
   "source": [
    "## os.path.dirname(...)"
   ],
   "cell_type": "markdown",
   "metadata": {}
  },
  {
   "cell_type": "code",
   "execution_count": 8,
   "metadata": {},
   "outputs": [
    {
     "output_type": "stream",
     "name": "stdout",
     "text": [
      "A/B/C\nA/B\n"
     ]
    }
   ],
   "source": [
    "path = os.path.join('A','B','C')\n",
    "print(path)\n",
    "print(os.path.dirname(path))"
   ]
  },
  {
   "cell_type": "code",
   "execution_count": null,
   "metadata": {},
   "outputs": [],
   "source": []
  }
 ]
}