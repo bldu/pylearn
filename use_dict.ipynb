{
 "cells": [
  {
   "cell_type": "markdown",
   "metadata": {},
   "source": [
    "字典是可变对象,所以`=`是浅拷贝\n",
    "\n",
    "`setdefault()`用法"
   ]
  },
  {
   "cell_type": "code",
   "execution_count": 14,
   "metadata": {},
   "outputs": [
    {
     "name": "stdout",
     "output_type": "stream",
     "text": [
      "{'a': {'b': 1}}\n",
      "{'b': 1}\n",
      "{'a': {'b': 0}}\n",
      "{'b': 0}\n"
     ]
    }
   ],
   "source": [
    "p = {}\n",
    "a = p.setdefault('a', {})\n",
    "a['b'] = 1\n",
    "print(p)\n",
    "aa = p.setdefault('a',{})\n",
    "#aa = p['a']\n",
    "print(aa)\n",
    "aa['b'] = 0\n",
    "print(p)\n",
    "print(a)"
   ]
  },
  {
   "cell_type": "markdown",
   "metadata": {},
   "source": [
    "`get()`用法"
   ]
  },
  {
   "cell_type": "code",
   "execution_count": 15,
   "metadata": {},
   "outputs": [
    {
     "name": "stdout",
     "output_type": "stream",
     "text": [
      "{'b': 0}\n",
      "None\n",
      "key not exists\n"
     ]
    }
   ],
   "source": [
    "print(p.get('a', None))\n",
    "print(p.get('c', None))\n",
    "print(p.get('c', \"key not exists\"))"
   ]
  },
  {
   "cell_type": "code",
   "execution_count": null,
   "metadata": {},
   "outputs": [],
   "source": []
  }
 ],
 "metadata": {
  "kernelspec": {
   "display_name": "base",
   "language": "python",
   "name": "python3"
  },
  "language_info": {
   "codemirror_mode": {
    "name": "ipython",
    "version": 3
   },
   "file_extension": ".py",
   "mimetype": "text/x-python",
   "name": "python",
   "nbconvert_exporter": "python",
   "pygments_lexer": "ipython3",
   "version": "3.9.7"
  }
 },
 "nbformat": 4,
 "nbformat_minor": 2
}
