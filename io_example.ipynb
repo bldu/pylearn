{
 "metadata": {
  "language_info": {
   "codemirror_mode": {
    "name": "ipython",
    "version": 3
   },
   "file_extension": ".py",
   "mimetype": "text/x-python",
   "name": "python",
   "nbconvert_exporter": "python",
   "pygments_lexer": "ipython3",
   "version": "3.6.13"
  },
  "orig_nbformat": 2,
  "kernelspec": {
   "name": "python3613jvsc74a57bd00c88bcb4a63b7e0cd4902dc564384a2548b29fbf444263675a50312db0f92f18",
   "display_name": "Python 3.6.13 64-bit ('python36': conda)"
  },
  "metadata": {
   "interpreter": {
    "hash": "0c88bcb4a63b7e0cd4902dc564384a2548b29fbf444263675a50312db0f92f18"
   }
  }
 },
 "nbformat": 4,
 "nbformat_minor": 2,
 "cells": [
  {
   "cell_type": "code",
   "execution_count": null,
   "metadata": {},
   "outputs": [],
   "source": [
    "# 变量名=input(‘指引信息’)\n",
    "b = input('输入你的名字:')\n",
    "c = input('输入你的生日：')\n",
    "d = input('输入你最喜欢的城市名：')\n",
    "e = input('输入你最喜欢的数字:')\n",
    "print('你的姓名:',b)\n",
    "print('你的生日:',c)\n",
    "print('你喜欢的城市和数字分别为:',d,e)"
   ]
  },
  {
   "cell_type": "code",
   "execution_count": 4,
   "metadata": {},
   "outputs": [
    {
     "output_type": "stream",
     "name": "stdout",
     "text": [
      "[1, 2, 3]\n",
      "[1, 2, 3]\n"
     ]
    }
   ],
   "source": [
    "#在大家之后的学习中会遇到一个很常见的问题，在Python中该如何一行输入多个字符。通常会采用Python中的内置map()函数来进行输入。\n",
    "a = map(int,input(\"输入若干个整数，并以空格隔开\").split())\n",
    "#这种方式输入了3个int型的数字，split()代表以空格隔开。\n",
    "print(list(a))\n",
    "index = list(map(int,input(\"输入若干个整数，并以'/'隔开\").split('/')))\n",
    "#这种方式可以输入任意个int型的数字，在这里采用列表来存储。\n",
    "print(index)"
   ]
  },
  {
   "cell_type": "code",
   "execution_count": null,
   "metadata": {},
   "outputs": [],
   "source": [
    "print(input(\"输入内容:\"))"
   ]
  },
  {
   "cell_type": "code",
   "execution_count": null,
   "metadata": {},
   "outputs": [],
   "source": []
  }
 ]
}