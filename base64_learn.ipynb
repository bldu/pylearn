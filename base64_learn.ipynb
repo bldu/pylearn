{
 "cells": [
  {
   "cell_type": "code",
   "execution_count": 8,
   "source": [
    "import base64"
   ],
   "outputs": [],
   "metadata": {}
  },
  {
   "cell_type": "markdown",
   "source": [
    "编码与解码的处理对象是byte，故对原数据要先编码，使原本的str类型变成byte，解码后直接输出来的是byte对象，故要解码成str对象。"
   ],
   "metadata": {}
  },
  {
   "cell_type": "code",
   "execution_count": 9,
   "source": [
    "st = 'hello world!'.encode()#默认以utf8编码\n",
    "print(st)\n",
    "res = base64.b64encode(st)\n",
    "print(res)\n",
    "print(res.decode())#默认以utf8解码\n",
    "res = base64.b64decode(res)\n",
    "print(res.decode())#默认以utf8解码"
   ],
   "outputs": [
    {
     "output_type": "stream",
     "name": "stdout",
     "text": [
      "b'hello world!'\n",
      "b'aGVsbG8gd29ybGQh'\n",
      "aGVsbG8gd29ybGQh\n",
      "hello world!\n"
     ]
    }
   ],
   "metadata": {}
  },
  {
   "cell_type": "code",
   "execution_count": 11,
   "source": [
    "path_img = \"./images/dog.jpg\"\n",
    "with open(path_img, 'rb') as f:\n",
    "    img = f.read()\n",
    "img_b64 = str(base64.b64encode(img), encoding='utf-8')\n"
   ],
   "outputs": [],
   "metadata": {}
  },
  {
   "cell_type": "code",
   "execution_count": null,
   "source": [],
   "outputs": [],
   "metadata": {}
  }
 ],
 "metadata": {
  "orig_nbformat": 4,
  "language_info": {
   "name": "python",
   "version": "3.6.13",
   "mimetype": "text/x-python",
   "codemirror_mode": {
    "name": "ipython",
    "version": 3
   },
   "pygments_lexer": "ipython3",
   "nbconvert_exporter": "python",
   "file_extension": ".py"
  },
  "kernelspec": {
   "name": "python3",
   "display_name": "Python 3.6.13 64-bit ('py36': pyenv)"
  },
  "interpreter": {
   "hash": "ec6ac128d56a3ba3aa7fe5753aaba629413f829b6a8e275630d223c0bdff08ac"
  }
 },
 "nbformat": 4,
 "nbformat_minor": 2
}