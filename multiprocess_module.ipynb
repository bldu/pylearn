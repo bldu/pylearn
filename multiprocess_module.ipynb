{
 "cells": [
  {
   "cell_type": "markdown",
   "metadata": {},
   "source": [
    "code demo from https://zhuanlan.zhihu.com/p/340657122"
   ]
  },
  {
   "cell_type": "markdown",
   "metadata": {},
   "source": [
    "## Process"
   ]
  },
  {
   "cell_type": "code",
   "execution_count": 2,
   "metadata": {},
   "outputs": [
    {
     "name": "stdout",
     "output_type": "stream",
     "text": [
      "id 1\n",
      "id 2\n"
     ]
    }
   ],
   "source": [
    "def function1(id):  # 这里是子进程\n",
    "    print(f'id {id}')\n",
    "\n",
    "def run__process():  # 这里是主进程\n",
    "    import multiprocessing as mp\n",
    "    process = [mp.Process(target=function1, args=(1,)),\n",
    "               mp.Process(target=function1, args=(2,)), ]\n",
    "    [p.start() for p in process]  # 开启了两个进程\n",
    "    [p.join() for p in process]   # 等待两个进程依次结束\n",
    "\n",
    "# run__process()  # 主线程不建议写在 if外部。由于这里的例子很简单，你强行这么做可能不会报错\n",
    "if __name__ =='__main__':\n",
    "    run__process()  # 正确做法：主线程只能写在 if内部"
   ]
  },
  {
   "cell_type": "markdown",
   "metadata": {},
   "source": [
    "## Pool"
   ]
  },
  {
   "cell_type": "code",
   "execution_count": 3,
   "metadata": {},
   "outputs": [
    {
     "name": "stdout",
     "output_type": "stream",
     "text": [
      "| inputs:  [(1, 1), (9, 9), (4, 4), (3, 3)]\n",
      "| outputs: [0, 0, 0, 0]    TimeUsed: 2.2    \n",
      "\n"
     ]
    }
   ],
   "source": [
    "import time\n",
    "\n",
    "def func2(args):  # multiple parameters (arguments)\n",
    "    # x, y = args\n",
    "    x = args[0]  # write in this way, easier to locate errors\n",
    "    y = args[1]  # write in this way, easier to locate errors\n",
    "\n",
    "    time.sleep(1)  # pretend it is a time-consuming operation\n",
    "    return x - y\n",
    "\n",
    "\n",
    "def run__pool():  # main process\n",
    "    from multiprocessing import Pool\n",
    "\n",
    "    cpu_worker_num = 3\n",
    "    process_args = [(1, 1), (9, 9), (4, 4), (3, 3), ]\n",
    "\n",
    "    print(f'| inputs:  {process_args}')\n",
    "    start_time = time.time()\n",
    "    with Pool(cpu_worker_num) as p:\n",
    "        outputs = p.map(func2, process_args)\n",
    "    print(f'| outputs: {outputs}    TimeUsed: {time.time() - start_time:.1f}    \\n')\n",
    "\n",
    "    '''Another way (I don't recommend)\n",
    "    Using 'functions.partial'. See https://stackoverflow.com/a/25553970/9293137\n",
    "    from functools import partial\n",
    "    # from functools import partial\n",
    "    # pool.map(partial(f, a, b), iterable)\n",
    "    '''\n",
    "\n",
    "if __name__ =='__main__':\n",
    "    run__pool()\n"
   ]
  },
  {
   "cell_type": "code",
   "execution_count": 2,
   "metadata": {},
   "outputs": [
    {
     "name": "stdout",
     "output_type": "stream",
     "text": [
      "msg:msg:msg:msg:msg:     hello processes3hello processes2hello processes1hello processes4hello processes5\n",
      "\n",
      "\n",
      "\n",
      "\n",
      "end,end,end,end,end,     hello processes3hello processes2hello processes1hello processes5hello processes4\n",
      "\n",
      "\n",
      "\n",
      "\n",
      "time used: 3.0808608531951904 s\n",
      "msg: hello processes1\n",
      "end, hello processes1\n",
      "msg: hello processes2\n",
      "end, hello processes2\n",
      "msg: hello processes3\n",
      "end, hello processes3\n",
      "msg: hello processes4\n",
      "end, hello processes4\n",
      "msg: hello processes5\n",
      "end, hello processes5\n",
      "time used: 15.017807006835938 s\n"
     ]
    }
   ],
   "source": [
    "# code from  https://www.cnblogs.com/shaosks/p/10281190.html\n",
    "\n",
    "import multiprocessing\n",
    "import time\n",
    "\n",
    "\n",
    "def func(msg):\n",
    "    print(\"msg:\", msg)\n",
    "    time.sleep(3)\n",
    "    print(\"end,\", msg)\n",
    "\n",
    "if __name__ == \"__main__\":\n",
    "\n",
    "    #多进程\n",
    "\n",
    "    # 这里设置允许同时运行的的进程数量要考虑机器cpu的数量，进程的数量最好别小于cpu的数量，\n",
    "    # 因为即使大于cpu的数量，增加了任务调度的时间，效率反而不能有效提高\n",
    "    pool = multiprocessing.Pool(processes = 5)\n",
    "    item_list = ['processes1' ,'processes2' ,'processes3' ,'processes4' ,'processes5' ,]\n",
    "    count = len(item_list)\n",
    "    start_time = time.time()\n",
    "    for item in item_list:\n",
    "        msg = \"hello {}\".format(item)\n",
    "        # 维持执行的进程总数为processes，当一个进程执行完毕后会添加新的进程进去\n",
    "        pool.apply_async(func, (msg,))\n",
    "\n",
    "    pool.close()\n",
    "    pool.join()  # 调用join之前，先调用close函数，否则会出错。执行完close后不会有新的进程加入到pool,join函数等待所有子进程结束\n",
    "\n",
    "    print(\"time used: {} s\".format(time.time() - start_time))\n",
    "\n",
    "\n",
    "    # 普通\n",
    "    start_time = time.time()\n",
    "\n",
    "    for item in item_list:\n",
    "        func(\"hello {}\".format(item))\n",
    "\n",
    "    print(\"time used: {} s\".format(time.time() - start_time))\n",
    "\n",
    "\n"
   ]
  },
  {
   "cell_type": "code",
   "execution_count": null,
   "metadata": {},
   "outputs": [],
   "source": []
  }
 ],
 "metadata": {
  "interpreter": {
   "hash": "8f7dd476496fb4ecdcd8222e54eb37fbb972e60637d09574e233f213c41bffa9"
  },
  "kernelspec": {
   "display_name": "Python 3.6.12 64-bit ('myenv': pyenv)",
   "language": "python",
   "name": "python3"
  },
  "language_info": {
   "codemirror_mode": {
    "name": "ipython",
    "version": 3
   },
   "file_extension": ".py",
   "mimetype": "text/x-python",
   "name": "python",
   "nbconvert_exporter": "python",
   "pygments_lexer": "ipython3",
   "version": "3.6.13"
  },
  "metadata": {
   "interpreter": {
    "hash": "0c88bcb4a63b7e0cd4902dc564384a2548b29fbf444263675a50312db0f92f18"
   }
  },
  "orig_nbformat": 2
 },
 "nbformat": 4,
 "nbformat_minor": 2
}
