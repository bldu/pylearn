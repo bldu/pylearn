{
 "metadata": {
  "language_info": {
   "codemirror_mode": {
    "name": "ipython",
    "version": 3
   },
   "file_extension": ".py",
   "mimetype": "text/x-python",
   "name": "python",
   "nbconvert_exporter": "python",
   "pygments_lexer": "ipython3",
   "version": "3.6.12"
  },
  "orig_nbformat": 2,
  "kernelspec": {
   "name": "python3612jvsc74a57bd01082b27f2b3cc8d7bc59e9528a62db72968e9972e564d4e07be9bc7809555110",
   "display_name": "Python 3.6.12 64-bit ('myenv': pyenv)"
  },
  "metadata": {
   "interpreter": {
    "hash": "0c88bcb4a63b7e0cd4902dc564384a2548b29fbf444263675a50312db0f92f18"
   }
  }
 },
 "nbformat": 4,
 "nbformat_minor": 2,
 "cells": [
  {
   "source": [
    "code demo from https://zhuanlan.zhihu.com/p/340657122"
   ],
   "cell_type": "markdown",
   "metadata": {}
  },
  {
   "source": [
    "## Process"
   ],
   "cell_type": "markdown",
   "metadata": {}
  },
  {
   "cell_type": "code",
   "execution_count": 2,
   "metadata": {},
   "outputs": [
    {
     "output_type": "stream",
     "name": "stdout",
     "text": [
      "id 1\n",
      "id 2\n"
     ]
    }
   ],
   "source": [
    "def function1(id):  # 这里是子进程\n",
    "    print(f'id {id}')\n",
    "\n",
    "def run__process():  # 这里是主进程\n",
    "    import multiprocessing as mp\n",
    "    process = [mp.Process(target=function1, args=(1,)),\n",
    "               mp.Process(target=function1, args=(2,)), ]\n",
    "    [p.start() for p in process]  # 开启了两个进程\n",
    "    [p.join() for p in process]   # 等待两个进程依次结束\n",
    "\n",
    "# run__process()  # 主线程不建议写在 if外部。由于这里的例子很简单，你强行这么做可能不会报错\n",
    "if __name__ =='__main__':\n",
    "    run__process()  # 正确做法：主线程只能写在 if内部"
   ]
  },
  {
   "source": [
    "## Pool"
   ],
   "cell_type": "markdown",
   "metadata": {}
  },
  {
   "cell_type": "code",
   "execution_count": 3,
   "metadata": {},
   "outputs": [
    {
     "output_type": "stream",
     "name": "stdout",
     "text": [
      "| inputs:  [(1, 1), (9, 9), (4, 4), (3, 3)]\n",
      "| outputs: [0, 0, 0, 0]    TimeUsed: 2.2    \n",
      "\n"
     ]
    }
   ],
   "source": [
    "import time\n",
    "\n",
    "def func2(args):  # multiple parameters (arguments)\n",
    "    # x, y = args\n",
    "    x = args[0]  # write in this way, easier to locate errors\n",
    "    y = args[1]  # write in this way, easier to locate errors\n",
    "\n",
    "    time.sleep(1)  # pretend it is a time-consuming operation\n",
    "    return x - y\n",
    "\n",
    "\n",
    "def run__pool():  # main process\n",
    "    from multiprocessing import Pool\n",
    "\n",
    "    cpu_worker_num = 3\n",
    "    process_args = [(1, 1), (9, 9), (4, 4), (3, 3), ]\n",
    "\n",
    "    print(f'| inputs:  {process_args}')\n",
    "    start_time = time.time()\n",
    "    with Pool(cpu_worker_num) as p:\n",
    "        outputs = p.map(func2, process_args)\n",
    "    print(f'| outputs: {outputs}    TimeUsed: {time.time() - start_time:.1f}    \\n')\n",
    "\n",
    "    '''Another way (I don't recommend)\n",
    "    Using 'functions.partial'. See https://stackoverflow.com/a/25553970/9293137\n",
    "    from functools import partial\n",
    "    # from functools import partial\n",
    "    # pool.map(partial(f, a, b), iterable)\n",
    "    '''\n",
    "\n",
    "if __name__ =='__main__':\n",
    "    run__pool()\n"
   ]
  },
  {
   "cell_type": "code",
   "execution_count": 7,
   "metadata": {},
   "outputs": [
    {
     "output_type": "stream",
     "name": "stdout",
     "text": [
      "msg:msg:msg:   hello processes2hello processes3\n",
      "hello processes1\n",
      "\n",
      "end, end,end,hello processes2  \n",
      "hello processes1hello processes3msg:\n",
      " \n",
      "msg:hello processes4 \n",
      "hello processes5\n",
      "end, hello processes4end,\n",
      " hello processes5\n",
      "time used: 6.128046035766602 s\n",
      "msg: hello processes1\n",
      "end, hello processes1\n",
      "msg: hello processes2\n",
      "end, hello processes2\n",
      "msg: hello processes3\n",
      "end, hello processes3\n",
      "msg: hello processes4\n",
      "end, hello processes4\n",
      "msg: hello processes5\n",
      "end, hello processes5\n",
      "time used: 15.02233076095581 s\n"
     ]
    }
   ],
   "source": [
    "# code from  https://www.cnblogs.com/shaosks/p/10281190.html\n",
    "\n",
    "import multiprocessing\n",
    "import time\n",
    "\n",
    "\n",
    "def func(msg):\n",
    "    print(\"msg:\", msg)\n",
    "    time.sleep(3)\n",
    "    print(\"end,\", msg)\n",
    "\n",
    "if __name__ == \"__main__\":\n",
    "\n",
    "    #多进程\n",
    "\n",
    "    # 这里设置允许同时运行的的进程数量要考虑机器cpu的数量，进程的数量最好别小于cpu的数量，\n",
    "    # 因为即使大于cpu的数量，增加了任务调度的时间，效率反而不能有效提高\n",
    "    pool = multiprocessing.Pool(processes = 3)\n",
    "    item_list = ['processes1' ,'processes2' ,'processes3' ,'processes4' ,'processes5' ,]\n",
    "    count = len(item_list)\n",
    "    start_time = time.time()\n",
    "    for item in item_list:\n",
    "        msg = \"hello %s\" %item\n",
    "        # 维持执行的进程总数为processes，当一个进程执行完毕后会添加新的进程进去\n",
    "        pool.apply_async(func, (msg,))\n",
    "\n",
    "    pool.close()\n",
    "    pool.join()  # 调用join之前，先调用close函数，否则会出错。执行完close后不会有新的进程加入到pool,join函数等待所有子进程结束\n",
    "\n",
    "    print(\"time used: {} s\".format(time.time() - start_time))\n",
    "\n",
    "\n",
    "    # 普通\n",
    "    start_time = time.time()\n",
    "\n",
    "    for item in item_list:\n",
    "        func(\"hello {}\".format(item))\n",
    "\n",
    "    print(\"time used: {} s\".format(time.time() - start_time))\n",
    "\n",
    "\n"
   ]
  },
  {
   "cell_type": "code",
   "execution_count": null,
   "metadata": {},
   "outputs": [],
   "source": []
  }
 ]
}