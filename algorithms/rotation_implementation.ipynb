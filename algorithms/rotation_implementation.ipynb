{
 "cells": [
  {
   "cell_type": "markdown",
   "metadata": {},
   "source": [
    "假设一个点的坐标为 $(x,y)$, 参数化表示有\n",
    "$$\n",
    "x=rcos\\theta, \\\\\n",
    "y=rsin\\theta .\n",
    "$$\n",
    "\n",
    "现在将该点绕原点逆时针旋转 $\\phi$ 角度，设旋转后点的坐标为 $(x',y')$，则有 \n",
    "$$\n",
    "x'=rcos(\\theta+\\phi) = rcos\\theta cos\\phi - rsin\\theta sin\\phi = xcos\\phi - ysin\\phi, \\\\\n",
    "y'=rsin(\\theta+\\phi) = rsin\\theta cos\\phi + rcos\\theta sin\\phi = ycos\\phi + xsin\\phi .\n",
    "$$\n",
    "\n",
    "写成矩阵形式，有\n",
    "\n",
    "$$\n",
    "\\begin{pmatrix}\n",
    "x' \\\\ y'\n",
    "\\end{pmatrix}\n",
    "=\n",
    "\\begin{pmatrix}\n",
    "cos\\phi & -sin\\phi \\\\ sin\\phi & cos\\phi\n",
    "\\end{pmatrix}\n",
    "\\begin{pmatrix}\n",
    "x \\\\ y\n",
    "\\end{pmatrix} .\n",
    "$$\n"
   ]
  },
  {
   "cell_type": "code",
   "execution_count": null,
   "metadata": {},
   "outputs": [],
   "source": [
    "import numpy as np\n",
    "\n"
   ]
  }
 ],
 "metadata": {
  "language_info": {
   "name": "python"
  },
  "orig_nbformat": 4
 },
 "nbformat": 4,
 "nbformat_minor": 2
}
