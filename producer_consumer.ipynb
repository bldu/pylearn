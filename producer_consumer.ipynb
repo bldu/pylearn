{
 "cells": [
  {
   "cell_type": "code",
   "execution_count": 1,
   "metadata": {},
   "outputs": [],
   "source": [
    "# https://www.jianshu.com/p/8a9af2e7e1b4\n",
    "\n",
    "import threading\n",
    "import time\n",
    "import queue\n",
    "\n",
    "def producer(name,q,data): #生产者，从data里面取数据，塞入队列q，如果q已满，则等待\n",
    "    for i in data:\n",
    "        q.put(i)\n",
    "        print('Producer {} put {}; '.format(name,i))\n",
    "        time.sleep(1)\n",
    "    q.put(None) #将None放入queue作为标记给生产者用\n",
    "    \n",
    "def consumer(name,q): #消费者，从q里拿出数据并处理\n",
    "    while True: #通过while的方式推动生产者不断尝试从queue中取数据\n",
    "        get_result = q.get() #从队列里挨个取出数据\n",
    "        q.task_done() #发送当前q中对应元素已被取出的消息，与后面的q.join()配合形成阻塞，保证q结束再执行其他程序，否则后面的q.join()将永远阻塞（后面程序无法执行）\n",
    "        \n",
    "        if get_result==None: #判断生产者是否已经结束，即将data的所有数据都加入queue中\n",
    "            q.put(None) #该步很重要，当producer()放入的None被某个consumer()抽取后，其他consumer()就没有结束标志了。缺点是最后queue中始终留有结束标志\n",
    "            print(\"All data have been tooken out!\")\n",
    "            break\n",
    "\n",
    "        print('consumer {} get {}; '.format(name,get_result)) #输出当前从queue中得到的数据\n",
    "        time.sleep(0.1)\n",
    "\n",
    "def main():\n",
    "\n",
    "    data = list(range(10)) #待处理的原始数据\n",
    "    consumer_names = ['甲','乙','丙'] #2个消费者\n",
    "    q = queue.Queue(maxsize=5) #生成一个最大容量为5的queue\n",
    "    \n",
    "    threads = [] #线程列表\n",
    "    \n",
    "    p = threading.Thread(target=producer,args=('A',q,data)) #生成一个生产者线程对象，该生产者名为A\n",
    "    threads.append(p) #将该线程加入线程列表\n",
    "    \n",
    "    for consumer_name in consumer_names: #为每一个消费者分配一个线程\n",
    "        t = threading.Thread(target=consumer,args=(consumer_name,q)) #消费者都从q里面拿数据\n",
    "        threads.append(t) #将五个消费者线程加入线程列表\n",
    "\n",
    "    for i in threads: #并列启动所有线程\n",
    "        i.setDaemon(True) #保证子线程在主线程退出时，无论出于什么状况都强制退出\n",
    "        i.start()\n",
    "    for i in threads: #将所有线程阻塞（即，不执行完，就不执行后面程序）\n",
    "        i.join()\n",
    "        \n",
    "    # 判断q里面是否还有剩余的对象没有处理（包括None），有则挨个拿出，否则q不为空后面的q.join()将一直阻塞（后面程序无法执行）\n",
    "    if not q.empty():\n",
    "        for i in range(q.qsize()):\n",
    "            q.get()\n",
    "            q.task_done() #不能删除，作用于前一个q.task_done()相同，\n",
    "\n",
    "    q.join() #保证q阻塞，接受前面所有的q.task_done()发来的信息，否则程序一直停在该处不往下执行。（必须保证前面任何一处出现q.get()后都有q.task_done()）\n",
    "\n",
    "    print(\"Program is over!\")\n"
   ]
  },
  {
   "cell_type": "code",
   "execution_count": 2,
   "metadata": {},
   "outputs": [
    {
     "name": "stdout",
     "output_type": "stream",
     "text": [
      "Producer A put 0; \n",
      "consumer 甲 get 0; \n",
      "Producer A put 1; consumer 乙 get 1; \n",
      "\n",
      "Producer A put 2; \n",
      "consumer 丙 get 2; \n",
      "Producer A put 3; consumer 甲 get 3; \n",
      "\n",
      "Producer A put 4; consumer 乙 get 4; \n",
      "\n",
      "Producer A put 5; consumer 丙 get 5; \n",
      "\n",
      "Producer A put 6; consumer 甲 get 6; \n",
      "\n",
      "Producer A put 7; consumer 乙 get 7; \n",
      "\n",
      "Producer A put 8; consumer 丙 get 8; \n",
      "\n",
      "Producer A put 9; consumer 甲 get 9; \n",
      "\n",
      "All data have been tooken out!\n",
      "All data have been tooken out!\n",
      "All data have been tooken out!\n",
      "Program is over!\n"
     ]
    }
   ],
   "source": [
    "\n",
    "main()"
   ]
  },
  {
   "cell_type": "code",
   "execution_count": null,
   "metadata": {},
   "outputs": [],
   "source": []
  }
 ],
 "metadata": {
  "kernelspec": {
   "display_name": "base",
   "language": "python",
   "name": "python3"
  },
  "language_info": {
   "codemirror_mode": {
    "name": "ipython",
    "version": 3
   },
   "file_extension": ".py",
   "mimetype": "text/x-python",
   "name": "python",
   "nbconvert_exporter": "python",
   "pygments_lexer": "ipython3",
   "version": "3.9.12"
  },
  "orig_nbformat": 4,
  "vscode": {
   "interpreter": {
    "hash": "24569d1e48d5584e297b359a3e4ba397d47845c086ef3db501ded0c04bfd9533"
   }
  }
 },
 "nbformat": 4,
 "nbformat_minor": 2
}
