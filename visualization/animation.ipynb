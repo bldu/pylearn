{
 "cells": [
  {
   "cell_type": "markdown",
   "source": [
    "https://mp.weixin.qq.com/s/6QjC8BVRaZ1hzwZ_9zfV5A"
   ],
   "metadata": {
    "collapsed": false
   }
  },
  {
   "cell_type": "markdown",
   "source": [
    "gif和matplotlib的结合"
   ],
   "metadata": {
    "collapsed": false
   }
  },
  {
   "cell_type": "code",
   "execution_count": 3,
   "metadata": {
    "collapsed": true
   },
   "outputs": [],
   "source": [
    "import random\n",
    "from matplotlib import pyplot as plt\n",
    "import gif\n",
    "\n",
    "x = [random.randint(0, 100) for _ in range(100)]\n",
    "y = [random.randint(0, 100) for _ in range(100)]\n",
    "\n",
    "gif.options.matplotlib[\"dpi\"] = 300\n",
    "\n",
    "@gif.frame\n",
    "def plot(i):\n",
    "    xi = x[i*10:(i+1)*10]\n",
    "    yi = y[i*10:(i+1)*10]\n",
    "    plt.scatter(xi, yi)\n",
    "    plt.xlim((0, 100))\n",
    "    plt.ylim((0, 100))\n",
    "\n",
    "frames = []\n",
    "for i in range(10):\n",
    "    frame = plot(i)\n",
    "    frames.append(frame)\n",
    "\n",
    "gif.save(frames, './output/example.gif', duration=3.5, unit=\"s\", between=\"startend\")"
   ]
  },
  {
   "cell_type": "markdown",
   "source": [
    "gif和plotly的结合"
   ],
   "metadata": {
    "collapsed": false,
    "pycharm": {
     "name": "#%% md\n"
    }
   }
  },
  {
   "cell_type": "code",
   "execution_count": 4,
   "outputs": [],
   "source": [
    "import random\n",
    "import plotly.graph_objects as go\n",
    "import pandas as pd\n",
    "import gif\n",
    "\n",
    "df = pd.DataFrame({\n",
    "    't': list(range(10)) * 10,\n",
    "    'x': [random.randint(0, 100) for _ in range(100)],\n",
    "    'y': [random.randint(0, 100) for _ in range(100)]\n",
    "})\n",
    "\n",
    "@gif.frame\n",
    "def plot(i):\n",
    "    d = df[df['t'] == i]\n",
    "    fig = go.Figure()\n",
    "    fig.add_trace(go.Scatter(\n",
    "        x=d[\"x\"],\n",
    "        y=d[\"y\"],\n",
    "        mode=\"markers\"\n",
    "    ))\n",
    "    fig.update_layout(width=500, height=300)\n",
    "    return fig\n",
    "\n",
    "frames = []\n",
    "for i in range(10):\n",
    "    frame = plot(i)\n",
    "    frames.append(frame)\n",
    "\n",
    "gif.save(frames, './output/example_plotly.gif', duration=100)"
   ],
   "metadata": {
    "collapsed": false,
    "pycharm": {
     "name": "#%%\n"
    }
   }
  },
  {
   "cell_type": "markdown",
   "source": [
    "matplotlib多子图动态可视化"
   ],
   "metadata": {
    "collapsed": false,
    "pycharm": {
     "name": "#%% md\n"
    }
   }
  },
  {
   "cell_type": "code",
   "execution_count": null,
   "outputs": [],
   "source": [
    "# 代码不可运行，仅供参考\n",
    "df = pd.read_csv('weather_hourly_darksky.csv')\n",
    "df = df.rename(columns={\"time\": \"date\"})\n",
    "\n",
    "@gif.frame\n",
    "def plot(df, date):\n",
    "    df = df.loc[df.index[0]:pd.Timestamp(date)]\n",
    "\n",
    "    fig, (ax1, ax2, ax3) = plt.subplots(3, figsize=(10, 6), dpi=100)\n",
    "\n",
    "    ax1.plot(df.temperature, marker='o', linestyle='--', linewidth=1, markersize=3, color='g')\n",
    "    maxi = round(df.temperature.max() + 3)\n",
    "    ax1.set_xlim([START, END])\n",
    "    ax1.set_ylim([0, maxi])\n",
    "    ax1.set_ylabel('TEMPERATURE', color='green')\n",
    "\n",
    "    ax2.plot(df.windSpeed, marker='o', linestyle='--', linewidth=1, markersize=3, color='b')\n",
    "    maxi = round(df.windSpeed.max() + 3)\n",
    "    ax2.set_xlim([START, END])\n",
    "    ax2.set_ylim([0, maxi])\n",
    "    ax2.set_ylabel('WIND', color='blue')\n",
    "\n",
    "    ax3.plot(df.visibility, marker='o', linestyle='--', linewidth=1, markersize=3, color='r')\n",
    "    maxi = round(df.visibility.max() + 3)\n",
    "    ax3.set_xlim([START, END])\n",
    "    ax3.set_ylim([0, maxi])\n",
    "    ax3.set_ylabel('VISIBILITY', color='red')\n",
    "\n",
    "frames = []\n",
    "for date in pd.date_range(start=df.index[0], end=df.index[-1], freq='1M'):\n",
    "    frame = plot(df, date)\n",
    "    frames.append(frame)\n",
    "\n",
    "gif.save(frames, \"文件名称.gif\", duration=0.5, unit='s')"
   ],
   "metadata": {
    "collapsed": false,
    "pycharm": {
     "name": "#%%\n"
    }
   }
  },
  {
   "cell_type": "markdown",
   "source": [
    "动态气泡图"
   ],
   "metadata": {
    "collapsed": false
   }
  },
  {
   "cell_type": "code",
   "execution_count": 6,
   "outputs": [],
   "source": [
    "import gif\n",
    "import plotly.graph_objects as go\n",
    "import numpy as np\n",
    "np.random.seed(1)\n",
    "\n",
    "N = 100\n",
    "x = np.random.rand(N)\n",
    "y = np.random.rand(N)\n",
    "colors = np.random.rand(N)\n",
    "sz = np.random.rand(N) * 30\n",
    "\n",
    "layout = go.Layout(\n",
    "    xaxis={'range': [-2, 2]},\n",
    "    yaxis={'range': [-2, 2]},\n",
    "    margin=dict(l=10, r=10, t=10, b=10)\n",
    ")\n",
    "\n",
    "@gif.frame\n",
    "def plot(i):\n",
    "    fig = go.Figure(layout=layout)\n",
    "    fig.add_trace(go.Scatter(\n",
    "        x=x[:i],\n",
    "        y=y[:i],\n",
    "        mode=\"markers\",\n",
    "        marker=go.scatter.Marker(\n",
    "            size=sz[:i],\n",
    "            color=colors[:i],\n",
    "            opacity=0.6,\n",
    "            colorscale=\"Viridis\"\n",
    "        )\n",
    "    ))\n",
    "    fig.update_layout(width=500, height=300)\n",
    "    return fig\n",
    "\n",
    "frames = []\n",
    "for i in range(100):\n",
    "    frame = plot(i)\n",
    "    frames.append(frame)\n",
    "\n",
    "gif.save(frames, \"./output/bubble.gif\")"
   ],
   "metadata": {
    "collapsed": false,
    "pycharm": {
     "name": "#%%\n"
    }
   }
  },
  {
   "cell_type": "code",
   "execution_count": null,
   "outputs": [],
   "source": [],
   "metadata": {
    "collapsed": false,
    "pycharm": {
     "name": "#%%\n"
    }
   }
  }
 ],
 "metadata": {
  "kernelspec": {
   "display_name": "Python 3",
   "language": "python",
   "name": "python3"
  },
  "language_info": {
   "codemirror_mode": {
    "name": "ipython",
    "version": 2
   },
   "file_extension": ".py",
   "mimetype": "text/x-python",
   "name": "python",
   "nbconvert_exporter": "python",
   "pygments_lexer": "ipython2",
   "version": "2.7.6"
  }
 },
 "nbformat": 4,
 "nbformat_minor": 0
}