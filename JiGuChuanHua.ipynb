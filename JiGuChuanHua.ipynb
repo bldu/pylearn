{
 "metadata": {
  "language_info": {
   "codemirror_mode": {
    "name": "ipython",
    "version": 3
   },
   "file_extension": ".py",
   "mimetype": "text/x-python",
   "name": "python",
   "nbconvert_exporter": "python",
   "pygments_lexer": "ipython3",
   "version": "3.7.10-final"
  },
  "orig_nbformat": 2,
  "kernelspec": {
   "name": "python3710jvsc74a57bd0d11407e844fb775f9bc3d4bbb98700ca39555da142fcdcc4c1c550e2d0385c37",
   "display_name": "Python 3.7.10 64-bit ('base_py37')"
  }
 },
 "nbformat": 4,
 "nbformat_minor": 2,
 "cells": [
  {
   "source": [
    "假设有n个人围成一圈一起玩游戏，从第一个人开始手中抱有一个炸弹，依次往后传m个人，然后最后接到的人炸弹爆炸出局。出局前炸弹会交给下一个人。这样持续玩下去直到剩下最后一个人为止。试求出那个人是谁。"
   ],
   "cell_type": "markdown",
   "metadata": {}
  },
  {
   "cell_type": "code",
   "execution_count": 2,
   "metadata": {},
   "outputs": [],
   "source": [
    "\n",
    "# 递归求当前人的下一个接炸弹的人。列表中1代表存活的人，0代表已经出局的人\n",
    "def next(current_idx, ls):\n",
    "    if ls[(current_idx+1)%len(ls)] == 1:\n",
    "        return (current_idx+1)%len(ls)\n",
    "    return next((current_idx+1)%len(ls), ls)\n",
    "\n",
    "\n",
    "def find_last_one(total_people, interval_num):\n",
    "    a = [1 for _ in range(total_people)]\n",
    "    current_idx = 0\n",
    "    for _ in range(total_people - 1):\n",
    "        for i in range(interval_num):\n",
    "            current_idx = next(current_idx, a)\n",
    "        a[current_idx] = 0\n",
    "        current_idx = next(current_idx, a)\n",
    "    \n",
    "    return next(current_idx, a)\n"
   ]
  },
  {
   "cell_type": "code",
   "execution_count": 10,
   "metadata": {},
   "outputs": [
    {
     "output_type": "stream",
     "name": "stdout",
     "text": [
      "1\n0\n96\n75\n"
     ]
    }
   ],
   "source": [
    "print(find_last_one(3,2))\n",
    "print(find_last_one(4,2))\n",
    "print(find_last_one(100,7))\n",
    "print(find_last_one(2000,27))"
   ]
  },
  {
   "cell_type": "code",
   "execution_count": null,
   "metadata": {},
   "outputs": [],
   "source": []
  }
 ]
}