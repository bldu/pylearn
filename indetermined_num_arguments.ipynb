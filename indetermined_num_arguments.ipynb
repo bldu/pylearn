{
 "cells": [
  {
   "cell_type": "code",
   "execution_count": 7,
   "metadata": {},
   "outputs": [
    {
     "name": "stdout",
     "output_type": "stream",
     "text": [
      "<class 'tuple'>\n",
      "<class 'dict'>\n",
      "1\n",
      "2\n",
      "x 1\n",
      "y 2\n"
     ]
    }
   ],
   "source": [
    "def func(*args, **kwargs):\n",
    "    print(type(args))\n",
    "    print(type(kwargs)) \n",
    "    \n",
    "    for i in args:\n",
    "        print(i)\n",
    "    \n",
    "    for k,v in kwargs.items():\n",
    "        print(k,v)\n",
    "\n",
    "\n",
    "func(1,2, x=1, y=2)"
   ]
  },
  {
   "cell_type": "code",
   "execution_count": 8,
   "metadata": {},
   "outputs": [
    {
     "name": "stdout",
     "output_type": "stream",
     "text": [
      "<class 'tuple'>\n",
      "<class 'dict'>\n",
      "1\n",
      "100\n",
      "a 2\n",
      "b 200\n"
     ]
    }
   ],
   "source": [
    "args = (1,100)\n",
    "kwargs = {\"a\":2, \"b\":200}\n",
    "func(*args, **kwargs)"
   ]
  },
  {
   "cell_type": "code",
   "execution_count": null,
   "metadata": {},
   "outputs": [],
   "source": []
  }
 ],
 "metadata": {
  "interpreter": {
   "hash": "8f7dd476496fb4ecdcd8222e54eb37fbb972e60637d09574e233f213c41bffa9"
  },
  "kernelspec": {
   "display_name": "Python 3.9.7 64-bit ('base': conda)",
   "language": "python",
   "name": "python3"
  },
  "language_info": {
   "codemirror_mode": {
    "name": "ipython",
    "version": 3
   },
   "file_extension": ".py",
   "mimetype": "text/x-python",
   "name": "python",
   "nbconvert_exporter": "python",
   "pygments_lexer": "ipython3",
   "version": "3.9.7"
  },
  "orig_nbformat": 4
 },
 "nbformat": 4,
 "nbformat_minor": 2
}
